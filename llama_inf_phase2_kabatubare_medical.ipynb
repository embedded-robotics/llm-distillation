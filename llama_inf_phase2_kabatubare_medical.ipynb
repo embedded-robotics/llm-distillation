{
 "cells": [
  {
   "cell_type": "markdown",
   "metadata": {},
   "source": [
    "### LLaMA Supervised Fine-Tuning\n",
    "\n",
    "This document will take the answers of GPT-4o on the Kababutare Medical Dataset and then fine-tune the LLaMA Model on those answers.\n",
    "\n",
    "The purpose of this exercise is to test whether the LLaMA fine-tuning is able to distill the knowledge of GPT-4o and improve the performance on the open-ended question/answering related to healthcare dataset"
   ]
  },
  {
   "cell_type": "code",
   "execution_count": 6,
   "metadata": {},
   "outputs": [],
   "source": [
    "import os"
   ]
  },
  {
   "cell_type": "code",
   "execution_count": 7,
   "metadata": {},
   "outputs": [],
   "source": [
    "os.environ[\"CUDA_VISIBLE_DEVICES\"] = \"0\""
   ]
  },
  {
   "cell_type": "code",
   "execution_count": 8,
   "metadata": {},
   "outputs": [],
   "source": [
    "import pandas as pd\n",
    "import json\n",
    "import torch\n",
    "import pickle\n",
    "from unsloth import FastLanguageModel\n",
    "from datasets import Dataset\n",
    "from tqdm  import tqdm"
   ]
  },
  {
   "cell_type": "markdown",
   "metadata": {},
   "source": [
    "#### Reading the Question and Answer Pairs from Phase 1 of GPT-4o"
   ]
  },
  {
   "cell_type": "code",
   "execution_count": 9,
   "metadata": {},
   "outputs": [
    {
     "data": {
      "text/html": [
       "<div>\n",
       "<style scoped>\n",
       "    .dataframe tbody tr th:only-of-type {\n",
       "        vertical-align: middle;\n",
       "    }\n",
       "\n",
       "    .dataframe tbody tr th {\n",
       "        vertical-align: top;\n",
       "    }\n",
       "\n",
       "    .dataframe thead th {\n",
       "        text-align: right;\n",
       "    }\n",
       "</style>\n",
       "<table border=\"1\" class=\"dataframe\">\n",
       "  <thead>\n",
       "    <tr style=\"text-align: right;\">\n",
       "      <th></th>\n",
       "      <th>question</th>\n",
       "      <th>gpt_response_base</th>\n",
       "    </tr>\n",
       "  </thead>\n",
       "  <tbody>\n",
       "    <tr>\n",
       "      <th>0</th>\n",
       "      <td>my 5 1/2-year-old son displays adhd symptoms f...</td>\n",
       "      <td>It’s important to remember that only a qualifi...</td>\n",
       "    </tr>\n",
       "    <tr>\n",
       "      <th>1</th>\n",
       "      <td>my son has add and mild autism. he has been su...</td>\n",
       "      <td>Weight management can be a concern for childre...</td>\n",
       "    </tr>\n",
       "    <tr>\n",
       "      <th>2</th>\n",
       "      <td>my son is 13 and is depressed. he has been tak...</td>\n",
       "      <td>I'm really sorry to hear that your son is feel...</td>\n",
       "    </tr>\n",
       "    <tr>\n",
       "      <th>3</th>\n",
       "      <td>my 17-year-old has stopped taking concerta aft...</td>\n",
       "      <td>When a person, especially a teenager, stops ta...</td>\n",
       "    </tr>\n",
       "    <tr>\n",
       "      <th>4</th>\n",
       "      <td>i've been taking respa-ar for allergies. i can...</td>\n",
       "      <td>Resp-A-R is a combination medication commonly ...</td>\n",
       "    </tr>\n",
       "    <tr>\n",
       "      <th>...</th>\n",
       "      <td>...</td>\n",
       "      <td>...</td>\n",
       "    </tr>\n",
       "    <tr>\n",
       "      <th>23432</th>\n",
       "      <td>how can accidental of acetaminophen overdose b...</td>\n",
       "      <td>Accidental acetaminophen overdose is a signifi...</td>\n",
       "    </tr>\n",
       "    <tr>\n",
       "      <th>23433</th>\n",
       "      <td>what should i do if i take an overdose of maxalt?</td>\n",
       "      <td>If you suspect that you have taken an overdose...</td>\n",
       "    </tr>\n",
       "    <tr>\n",
       "      <th>23434</th>\n",
       "      <td>what do i do in case of an overdose of relpax?</td>\n",
       "      <td>If you suspect an overdose of Relpax (eletript...</td>\n",
       "    </tr>\n",
       "    <tr>\n",
       "      <th>23435</th>\n",
       "      <td>is overdose with acetaminophen usually acciden...</td>\n",
       "      <td>Overdoses of acetaminophen (also known as para...</td>\n",
       "    </tr>\n",
       "    <tr>\n",
       "      <th>23436</th>\n",
       "      <td>how does an overdose of acetaminophen cause li...</td>\n",
       "      <td>Acetaminophen (also known as paracetamol) is a...</td>\n",
       "    </tr>\n",
       "  </tbody>\n",
       "</table>\n",
       "<p>23437 rows × 2 columns</p>\n",
       "</div>"
      ],
      "text/plain": [
       "                                                question  \\\n",
       "0      my 5 1/2-year-old son displays adhd symptoms f...   \n",
       "1      my son has add and mild autism. he has been su...   \n",
       "2      my son is 13 and is depressed. he has been tak...   \n",
       "3      my 17-year-old has stopped taking concerta aft...   \n",
       "4      i've been taking respa-ar for allergies. i can...   \n",
       "...                                                  ...   \n",
       "23432  how can accidental of acetaminophen overdose b...   \n",
       "23433  what should i do if i take an overdose of maxalt?   \n",
       "23434     what do i do in case of an overdose of relpax?   \n",
       "23435  is overdose with acetaminophen usually acciden...   \n",
       "23436  how does an overdose of acetaminophen cause li...   \n",
       "\n",
       "                                       gpt_response_base  \n",
       "0      It’s important to remember that only a qualifi...  \n",
       "1      Weight management can be a concern for childre...  \n",
       "2      I'm really sorry to hear that your son is feel...  \n",
       "3      When a person, especially a teenager, stops ta...  \n",
       "4      Resp-A-R is a combination medication commonly ...  \n",
       "...                                                  ...  \n",
       "23432  Accidental acetaminophen overdose is a signifi...  \n",
       "23433  If you suspect that you have taken an overdose...  \n",
       "23434  If you suspect an overdose of Relpax (eletript...  \n",
       "23435  Overdoses of acetaminophen (also known as para...  \n",
       "23436  Acetaminophen (also known as paracetamol) is a...  \n",
       "\n",
       "[23437 rows x 2 columns]"
      ]
     },
     "execution_count": 9,
     "metadata": {},
     "output_type": "execute_result"
    }
   ],
   "source": [
    "gpt_inf_data_phase1 = pd.DataFrame()\n",
    "ques_list = []\n",
    "gpt_resp_list = []\n",
    "\n",
    "with open('phase1_kabatubare_medical/kabatubare_medical_gpt4omini_qa_pairs.jsonl', 'rb') as file:\n",
    "    for line in file:\n",
    "        json_object = json.loads(line)\n",
    "        ques_list.append(json_object['Question'])\n",
    "        gpt_resp_list.append(json_object['Answer'])\n",
    "\n",
    "gpt_inf_data_phase1['question'] = ques_list\n",
    "gpt_inf_data_phase1['gpt_response_base'] = gpt_resp_list\n",
    "gpt_inf_data_phase1"
   ]
  },
  {
   "cell_type": "markdown",
   "metadata": {},
   "source": [
    "### Inference"
   ]
  },
  {
   "cell_type": "code",
   "execution_count": 12,
   "metadata": {},
   "outputs": [],
   "source": [
    "# full_model_path = \"./llama32-sft-full-kabatubare\"\n",
    "peft_model_path = \"./llama32-sft-peft-kabatubare\" #use for LoRA based fine-tuning"
   ]
  },
  {
   "cell_type": "code",
   "execution_count": 13,
   "metadata": {},
   "outputs": [
    {
     "name": "stdout",
     "output_type": "stream",
     "text": [
      "==((====))==  Unsloth 2025.3.19: Fast Llama patching. Transformers: 4.50.2.\n",
      "   \\\\   /|    NVIDIA RTX A6000. Num GPUs = 1. Max memory: 47.413 GB. Platform: Linux.\n",
      "O^O/ \\_/ \\    Torch: 2.4.1+cu124. CUDA: 8.6. CUDA Toolkit: 12.4. Triton: 3.0.0\n",
      "\\        /    Bfloat16 = TRUE. FA [Xformers = 0.0.28.post1. FA2 = True]\n",
      " \"-____-\"     Free license: http://github.com/unslothai/unsloth\n",
      "Unsloth: Fast downloading is enabled - ignore downloading bars which are red colored!\n"
     ]
    },
    {
     "name": "stderr",
     "output_type": "stream",
     "text": [
      "Unsloth 2025.3.19 patched 28 layers with 0 QKV layers, 0 O layers and 0 MLP layers.\n"
     ]
    }
   ],
   "source": [
    "model, tokenizer = FastLanguageModel.from_pretrained(\n",
    "    model_name = peft_model_path,\n",
    "    max_seq_length = 4096,\n",
    "    load_in_4bit = False, # 4 bit quantization to reduce memory\n",
    "    load_in_8bit = False, # [NEW!] A bit more accurate, uses 2x memory\n",
    "    full_finetuning = False, # [NEW!] We have full finetuning now!\n",
    "    dtype=None, #None for auto-detection. Can be torch.bfloat16 or torch.float16 (will be automatically detected)\n",
    "    device_map=\"auto\"\n",
    ")"
   ]
  },
  {
   "cell_type": "markdown",
   "metadata": {},
   "source": [
    "Implementing sample-by-sample inference. (Batch Inference doesn't work well for fine-tuned model adapters as responses like `P P P P` are being produced)"
   ]
  },
  {
   "cell_type": "code",
   "execution_count": 14,
   "metadata": {},
   "outputs": [],
   "source": [
    "def get_llama_response_ft(question_input: str):\n",
    "    \n",
    "    llama_input = [{\"role\": \"system\", \"content\": \"You are a medical knowledge assistant trained to provide information and guidance on various health-related topics.\"},\n",
    "                    {\"role\": \"user\", \"content\": question_input}]\n",
    "\n",
    "    prompt = tokenizer.apply_chat_template(llama_input, tokenize=False, add_generation_prompt=True)\n",
    "    \n",
    "    inputs = tokenizer(prompt, padding=True, truncation=True, return_tensors=\"pt\").to(model.device)\n",
    "    temp_resp = tokenizer.decode(inputs['input_ids'][0], skip_special_tokens=True)\n",
    "    \n",
    "    outputs = model.generate(\n",
    "        **inputs, \n",
    "        max_new_tokens=4096,\n",
    "        num_return_sequences=1\n",
    "    )\n",
    "\n",
    "    resp = tokenizer.decode(outputs[0], skip_special_tokens=True)\n",
    "    resp = resp[len(temp_resp):] #getting only the response part (i.e., assistant)\n",
    "    \n",
    "    return resp"
   ]
  },
  {
   "cell_type": "code",
   "execution_count": 16,
   "metadata": {},
   "outputs": [
    {
     "name": "stderr",
     "output_type": "stream",
     "text": [
      "  0%|          | 16/23437 [03:10<77:32:10, 11.92s/it]\n"
     ]
    },
    {
     "ename": "KeyboardInterrupt",
     "evalue": "",
     "output_type": "error",
     "traceback": [
      "\u001b[31m---------------------------------------------------------------------------\u001b[39m",
      "\u001b[31mKeyboardInterrupt\u001b[39m                         Traceback (most recent call last)",
      "\u001b[36mCell\u001b[39m\u001b[36m \u001b[39m\u001b[32mIn[16]\u001b[39m\u001b[32m, line 7\u001b[39m\n\u001b[32m      5\u001b[39m \u001b[38;5;28;01mfor\u001b[39;00m index, row \u001b[38;5;129;01min\u001b[39;00m tqdm(gpt_inf_data_phase1.iterrows(), total=\u001b[38;5;28mlen\u001b[39m(gpt_inf_data_phase1)):\n\u001b[32m      6\u001b[39m     question_input = row[\u001b[33m'\u001b[39m\u001b[33mgpt_response_base\u001b[39m\u001b[33m'\u001b[39m]\n\u001b[32m----> \u001b[39m\u001b[32m7\u001b[39m     llama_resp = \u001b[43mget_llama_response_ft\u001b[49m\u001b[43m(\u001b[49m\u001b[43mquestion_input\u001b[49m\u001b[43m)\u001b[49m\n\u001b[32m      8\u001b[39m     llama_responses_ft.append(llama_resp)\n\u001b[32m     10\u001b[39m \u001b[38;5;28;01mwith\u001b[39;00m \u001b[38;5;28mopen\u001b[39m(\u001b[33m'\u001b[39m\u001b[33mphase2_kabatubare_medical/llama_responses_ft.pkl\u001b[39m\u001b[33m'\u001b[39m, \u001b[33m'\u001b[39m\u001b[33mwb\u001b[39m\u001b[33m'\u001b[39m) \u001b[38;5;28;01mas\u001b[39;00m file:\n",
      "\u001b[36mCell\u001b[39m\u001b[36m \u001b[39m\u001b[32mIn[14]\u001b[39m\u001b[32m, line 11\u001b[39m, in \u001b[36mget_llama_response_ft\u001b[39m\u001b[34m(question_input)\u001b[39m\n\u001b[32m      8\u001b[39m inputs = tokenizer(prompt, padding=\u001b[38;5;28;01mTrue\u001b[39;00m, truncation=\u001b[38;5;28;01mTrue\u001b[39;00m, return_tensors=\u001b[33m\"\u001b[39m\u001b[33mpt\u001b[39m\u001b[33m\"\u001b[39m).to(model.device)\n\u001b[32m      9\u001b[39m temp_resp = tokenizer.decode(inputs[\u001b[33m'\u001b[39m\u001b[33minput_ids\u001b[39m\u001b[33m'\u001b[39m][\u001b[32m0\u001b[39m], skip_special_tokens=\u001b[38;5;28;01mTrue\u001b[39;00m)\n\u001b[32m---> \u001b[39m\u001b[32m11\u001b[39m outputs = \u001b[43mmodel\u001b[49m\u001b[43m.\u001b[49m\u001b[43mgenerate\u001b[49m\u001b[43m(\u001b[49m\n\u001b[32m     12\u001b[39m \u001b[43m    \u001b[49m\u001b[43m*\u001b[49m\u001b[43m*\u001b[49m\u001b[43minputs\u001b[49m\u001b[43m,\u001b[49m\u001b[43m \u001b[49m\n\u001b[32m     13\u001b[39m \u001b[43m    \u001b[49m\u001b[43mmax_new_tokens\u001b[49m\u001b[43m=\u001b[49m\u001b[32;43m4096\u001b[39;49m\u001b[43m,\u001b[49m\n\u001b[32m     14\u001b[39m \u001b[43m    \u001b[49m\u001b[43mnum_return_sequences\u001b[49m\u001b[43m=\u001b[49m\u001b[32;43m1\u001b[39;49m\n\u001b[32m     15\u001b[39m \u001b[43m\u001b[49m\u001b[43m)\u001b[49m\n\u001b[32m     17\u001b[39m resp = tokenizer.decode(outputs[\u001b[32m0\u001b[39m], skip_special_tokens=\u001b[38;5;28;01mTrue\u001b[39;00m)\n\u001b[32m     18\u001b[39m resp = resp[\u001b[38;5;28mlen\u001b[39m(temp_resp):] \u001b[38;5;66;03m#getting only the response part (i.e., assistant)\u001b[39;00m\n",
      "\u001b[36mFile \u001b[39m\u001b[32m/data/mn27889/miniconda3/envs/mental-health-agents/lib/python3.12/site-packages/peft/peft_model.py:1874\u001b[39m, in \u001b[36mPeftModelForCausalLM.generate\u001b[39m\u001b[34m(self, *args, **kwargs)\u001b[39m\n\u001b[32m   1872\u001b[39m     \u001b[38;5;28;01mwith\u001b[39;00m \u001b[38;5;28mself\u001b[39m._enable_peft_forward_hooks(*args, **kwargs):\n\u001b[32m   1873\u001b[39m         kwargs = {k: v \u001b[38;5;28;01mfor\u001b[39;00m k, v \u001b[38;5;129;01min\u001b[39;00m kwargs.items() \u001b[38;5;28;01mif\u001b[39;00m k \u001b[38;5;129;01mnot\u001b[39;00m \u001b[38;5;129;01min\u001b[39;00m \u001b[38;5;28mself\u001b[39m.special_peft_forward_args}\n\u001b[32m-> \u001b[39m\u001b[32m1874\u001b[39m         outputs = \u001b[38;5;28;43mself\u001b[39;49m\u001b[43m.\u001b[49m\u001b[43mbase_model\u001b[49m\u001b[43m.\u001b[49m\u001b[43mgenerate\u001b[49m\u001b[43m(\u001b[49m\u001b[43m*\u001b[49m\u001b[43margs\u001b[49m\u001b[43m,\u001b[49m\u001b[43m \u001b[49m\u001b[43m*\u001b[49m\u001b[43m*\u001b[49m\u001b[43mkwargs\u001b[49m\u001b[43m)\u001b[49m\n\u001b[32m   1875\u001b[39m \u001b[38;5;28;01melse\u001b[39;00m:\n\u001b[32m   1876\u001b[39m     outputs = \u001b[38;5;28mself\u001b[39m.base_model.generate(**kwargs)\n",
      "\u001b[36mFile \u001b[39m\u001b[32m/data/mn27889/miniconda3/envs/mental-health-agents/lib/python3.12/site-packages/unsloth/models/llama.py:1574\u001b[39m, in \u001b[36munsloth_fast_generate\u001b[39m\u001b[34m(self, *args, **kwargs)\u001b[39m\n\u001b[32m   1572\u001b[39m \u001b[38;5;66;03m# Mixed precision autocast\u001b[39;00m\n\u001b[32m   1573\u001b[39m \u001b[38;5;28;01mwith\u001b[39;00m torch.inference_mode(), torch.autocast(device_type = \u001b[33m\"\u001b[39m\u001b[33mcuda\u001b[39m\u001b[33m\"\u001b[39m, dtype = dtype):\n\u001b[32m-> \u001b[39m\u001b[32m1574\u001b[39m     output = \u001b[38;5;28;43mself\u001b[39;49m\u001b[43m.\u001b[49m\u001b[43m_old_generate\u001b[49m\u001b[43m(\u001b[49m\u001b[43m*\u001b[49m\u001b[43margs\u001b[49m\u001b[43m,\u001b[49m\u001b[43m \u001b[49m\u001b[43m*\u001b[49m\u001b[43m*\u001b[49m\u001b[43mkwargs\u001b[49m\u001b[43m)\u001b[49m\n\u001b[32m   1575\u001b[39m \u001b[38;5;28;01mpass\u001b[39;00m\n\u001b[32m   1577\u001b[39m \u001b[38;5;66;03m# Return accelerate back\u001b[39;00m\n\u001b[32m   1578\u001b[39m \u001b[38;5;66;03m# if accelerate_new_send_to_device is not None:\u001b[39;00m\n\u001b[32m   1579\u001b[39m \u001b[38;5;66;03m#     accelerate.utils.operations.send_to_device = accelerate_old_send_to_device\u001b[39;00m\n\u001b[32m   1580\u001b[39m \u001b[38;5;66;03m# pass\u001b[39;00m\n",
      "\u001b[36mFile \u001b[39m\u001b[32m/data/mn27889/miniconda3/envs/mental-health-agents/lib/python3.12/site-packages/torch/utils/_contextlib.py:116\u001b[39m, in \u001b[36mcontext_decorator.<locals>.decorate_context\u001b[39m\u001b[34m(*args, **kwargs)\u001b[39m\n\u001b[32m    113\u001b[39m \u001b[38;5;129m@functools\u001b[39m.wraps(func)\n\u001b[32m    114\u001b[39m \u001b[38;5;28;01mdef\u001b[39;00m\u001b[38;5;250m \u001b[39m\u001b[34mdecorate_context\u001b[39m(*args, **kwargs):\n\u001b[32m    115\u001b[39m     \u001b[38;5;28;01mwith\u001b[39;00m ctx_factory():\n\u001b[32m--> \u001b[39m\u001b[32m116\u001b[39m         \u001b[38;5;28;01mreturn\u001b[39;00m \u001b[43mfunc\u001b[49m\u001b[43m(\u001b[49m\u001b[43m*\u001b[49m\u001b[43margs\u001b[49m\u001b[43m,\u001b[49m\u001b[43m \u001b[49m\u001b[43m*\u001b[49m\u001b[43m*\u001b[49m\u001b[43mkwargs\u001b[49m\u001b[43m)\u001b[49m\n",
      "\u001b[36mFile \u001b[39m\u001b[32m/data/mn27889/miniconda3/envs/mental-health-agents/lib/python3.12/site-packages/transformers/generation/utils.py:2326\u001b[39m, in \u001b[36mGenerationMixin.generate\u001b[39m\u001b[34m(self, inputs, generation_config, logits_processor, stopping_criteria, prefix_allowed_tokens_fn, synced_gpus, assistant_model, streamer, negative_prompt_ids, negative_prompt_attention_mask, use_model_defaults, **kwargs)\u001b[39m\n\u001b[32m   2318\u001b[39m     input_ids, model_kwargs = \u001b[38;5;28mself\u001b[39m._expand_inputs_for_generation(\n\u001b[32m   2319\u001b[39m         input_ids=input_ids,\n\u001b[32m   2320\u001b[39m         expand_size=generation_config.num_return_sequences,\n\u001b[32m   2321\u001b[39m         is_encoder_decoder=\u001b[38;5;28mself\u001b[39m.config.is_encoder_decoder,\n\u001b[32m   2322\u001b[39m         **model_kwargs,\n\u001b[32m   2323\u001b[39m     )\n\u001b[32m   2325\u001b[39m     \u001b[38;5;66;03m# 12. run sample (it degenerates to greedy search when `generation_config.do_sample=False`)\u001b[39;00m\n\u001b[32m-> \u001b[39m\u001b[32m2326\u001b[39m     result = \u001b[38;5;28;43mself\u001b[39;49m\u001b[43m.\u001b[49m\u001b[43m_sample\u001b[49m\u001b[43m(\u001b[49m\n\u001b[32m   2327\u001b[39m \u001b[43m        \u001b[49m\u001b[43minput_ids\u001b[49m\u001b[43m,\u001b[49m\n\u001b[32m   2328\u001b[39m \u001b[43m        \u001b[49m\u001b[43mlogits_processor\u001b[49m\u001b[43m=\u001b[49m\u001b[43mprepared_logits_processor\u001b[49m\u001b[43m,\u001b[49m\n\u001b[32m   2329\u001b[39m \u001b[43m        \u001b[49m\u001b[43mstopping_criteria\u001b[49m\u001b[43m=\u001b[49m\u001b[43mprepared_stopping_criteria\u001b[49m\u001b[43m,\u001b[49m\n\u001b[32m   2330\u001b[39m \u001b[43m        \u001b[49m\u001b[43mgeneration_config\u001b[49m\u001b[43m=\u001b[49m\u001b[43mgeneration_config\u001b[49m\u001b[43m,\u001b[49m\n\u001b[32m   2331\u001b[39m \u001b[43m        \u001b[49m\u001b[43msynced_gpus\u001b[49m\u001b[43m=\u001b[49m\u001b[43msynced_gpus\u001b[49m\u001b[43m,\u001b[49m\n\u001b[32m   2332\u001b[39m \u001b[43m        \u001b[49m\u001b[43mstreamer\u001b[49m\u001b[43m=\u001b[49m\u001b[43mstreamer\u001b[49m\u001b[43m,\u001b[49m\n\u001b[32m   2333\u001b[39m \u001b[43m        \u001b[49m\u001b[43m*\u001b[49m\u001b[43m*\u001b[49m\u001b[43mmodel_kwargs\u001b[49m\u001b[43m,\u001b[49m\n\u001b[32m   2334\u001b[39m \u001b[43m    \u001b[49m\u001b[43m)\u001b[49m\n\u001b[32m   2336\u001b[39m \u001b[38;5;28;01melif\u001b[39;00m generation_mode \u001b[38;5;129;01min\u001b[39;00m (GenerationMode.BEAM_SAMPLE, GenerationMode.BEAM_SEARCH):\n\u001b[32m   2337\u001b[39m     \u001b[38;5;66;03m# 11. interleave input_ids with `num_beams` additional sequences per batch\u001b[39;00m\n\u001b[32m   2338\u001b[39m     input_ids, model_kwargs = \u001b[38;5;28mself\u001b[39m._expand_inputs_for_generation(\n\u001b[32m   2339\u001b[39m         input_ids=input_ids,\n\u001b[32m   2340\u001b[39m         expand_size=generation_config.num_beams,\n\u001b[32m   2341\u001b[39m         is_encoder_decoder=\u001b[38;5;28mself\u001b[39m.config.is_encoder_decoder,\n\u001b[32m   2342\u001b[39m         **model_kwargs,\n\u001b[32m   2343\u001b[39m     )\n",
      "\u001b[36mFile \u001b[39m\u001b[32m/data/mn27889/miniconda3/envs/mental-health-agents/lib/python3.12/site-packages/transformers/generation/utils.py:3289\u001b[39m, in \u001b[36mGenerationMixin._sample\u001b[39m\u001b[34m(self, input_ids, logits_processor, stopping_criteria, generation_config, synced_gpus, streamer, **model_kwargs)\u001b[39m\n\u001b[32m   3287\u001b[39m     is_prefill = \u001b[38;5;28;01mFalse\u001b[39;00m\n\u001b[32m   3288\u001b[39m \u001b[38;5;28;01melse\u001b[39;00m:\n\u001b[32m-> \u001b[39m\u001b[32m3289\u001b[39m     outputs = \u001b[43mmodel_forward\u001b[49m\u001b[43m(\u001b[49m\u001b[43m*\u001b[49m\u001b[43m*\u001b[49m\u001b[43mmodel_inputs\u001b[49m\u001b[43m,\u001b[49m\u001b[43m \u001b[49m\u001b[43mreturn_dict\u001b[49m\u001b[43m=\u001b[49m\u001b[38;5;28;43;01mTrue\u001b[39;49;00m\u001b[43m)\u001b[49m\n\u001b[32m   3291\u001b[39m \u001b[38;5;66;03m# synced_gpus: don't waste resources running the code we don't need; kwargs must be updated before skipping\u001b[39;00m\n\u001b[32m   3292\u001b[39m model_kwargs = \u001b[38;5;28mself\u001b[39m._update_model_kwargs_for_generation(\n\u001b[32m   3293\u001b[39m     outputs,\n\u001b[32m   3294\u001b[39m     model_kwargs,\n\u001b[32m   3295\u001b[39m     is_encoder_decoder=\u001b[38;5;28mself\u001b[39m.config.is_encoder_decoder,\n\u001b[32m   3296\u001b[39m )\n",
      "\u001b[36mFile \u001b[39m\u001b[32m/data/mn27889/miniconda3/envs/mental-health-agents/lib/python3.12/site-packages/torch/nn/modules/module.py:1553\u001b[39m, in \u001b[36mModule._wrapped_call_impl\u001b[39m\u001b[34m(self, *args, **kwargs)\u001b[39m\n\u001b[32m   1551\u001b[39m     \u001b[38;5;28;01mreturn\u001b[39;00m \u001b[38;5;28mself\u001b[39m._compiled_call_impl(*args, **kwargs)  \u001b[38;5;66;03m# type: ignore[misc]\u001b[39;00m\n\u001b[32m   1552\u001b[39m \u001b[38;5;28;01melse\u001b[39;00m:\n\u001b[32m-> \u001b[39m\u001b[32m1553\u001b[39m     \u001b[38;5;28;01mreturn\u001b[39;00m \u001b[38;5;28;43mself\u001b[39;49m\u001b[43m.\u001b[49m\u001b[43m_call_impl\u001b[49m\u001b[43m(\u001b[49m\u001b[43m*\u001b[49m\u001b[43margs\u001b[49m\u001b[43m,\u001b[49m\u001b[43m \u001b[49m\u001b[43m*\u001b[49m\u001b[43m*\u001b[49m\u001b[43mkwargs\u001b[49m\u001b[43m)\u001b[49m\n",
      "\u001b[36mFile \u001b[39m\u001b[32m/data/mn27889/miniconda3/envs/mental-health-agents/lib/python3.12/site-packages/torch/nn/modules/module.py:1562\u001b[39m, in \u001b[36mModule._call_impl\u001b[39m\u001b[34m(self, *args, **kwargs)\u001b[39m\n\u001b[32m   1557\u001b[39m \u001b[38;5;66;03m# If we don't have any hooks, we want to skip the rest of the logic in\u001b[39;00m\n\u001b[32m   1558\u001b[39m \u001b[38;5;66;03m# this function, and just call forward.\u001b[39;00m\n\u001b[32m   1559\u001b[39m \u001b[38;5;28;01mif\u001b[39;00m \u001b[38;5;129;01mnot\u001b[39;00m (\u001b[38;5;28mself\u001b[39m._backward_hooks \u001b[38;5;129;01mor\u001b[39;00m \u001b[38;5;28mself\u001b[39m._backward_pre_hooks \u001b[38;5;129;01mor\u001b[39;00m \u001b[38;5;28mself\u001b[39m._forward_hooks \u001b[38;5;129;01mor\u001b[39;00m \u001b[38;5;28mself\u001b[39m._forward_pre_hooks\n\u001b[32m   1560\u001b[39m         \u001b[38;5;129;01mor\u001b[39;00m _global_backward_pre_hooks \u001b[38;5;129;01mor\u001b[39;00m _global_backward_hooks\n\u001b[32m   1561\u001b[39m         \u001b[38;5;129;01mor\u001b[39;00m _global_forward_hooks \u001b[38;5;129;01mor\u001b[39;00m _global_forward_pre_hooks):\n\u001b[32m-> \u001b[39m\u001b[32m1562\u001b[39m     \u001b[38;5;28;01mreturn\u001b[39;00m \u001b[43mforward_call\u001b[49m\u001b[43m(\u001b[49m\u001b[43m*\u001b[49m\u001b[43margs\u001b[49m\u001b[43m,\u001b[49m\u001b[43m \u001b[49m\u001b[43m*\u001b[49m\u001b[43m*\u001b[49m\u001b[43mkwargs\u001b[49m\u001b[43m)\u001b[49m\n\u001b[32m   1564\u001b[39m \u001b[38;5;28;01mtry\u001b[39;00m:\n\u001b[32m   1565\u001b[39m     result = \u001b[38;5;28;01mNone\u001b[39;00m\n",
      "\u001b[36mFile \u001b[39m\u001b[32m/data/mn27889/miniconda3/envs/mental-health-agents/lib/python3.12/site-packages/unsloth/models/llama.py:1026\u001b[39m, in \u001b[36mCausalLM_fast_forward.<locals>._CausalLM_fast_forward\u001b[39m\u001b[34m(self, input_ids, causal_mask, attention_mask, position_ids, past_key_values, inputs_embeds, labels, use_cache, output_attentions, output_hidden_states, return_dict, num_logits_to_keep, logits_to_keep, *args, **kwargs)\u001b[39m\n\u001b[32m   1008\u001b[39m \u001b[38;5;28;01mdef\u001b[39;00m\u001b[38;5;250m \u001b[39m\u001b[34m_CausalLM_fast_forward\u001b[39m(\n\u001b[32m   1009\u001b[39m     \u001b[38;5;28mself\u001b[39m,\n\u001b[32m   1010\u001b[39m     input_ids: torch.LongTensor = \u001b[38;5;28;01mNone\u001b[39;00m,\n\u001b[32m   (...)\u001b[39m\u001b[32m   1023\u001b[39m     *args, **kwargs,\n\u001b[32m   1024\u001b[39m ) -> Union[Tuple, CausalLMOutputWithPast]:\n\u001b[32m   1025\u001b[39m     \u001b[38;5;28;01mif\u001b[39;00m past_key_values \u001b[38;5;129;01mis\u001b[39;00m \u001b[38;5;129;01mnot\u001b[39;00m \u001b[38;5;28;01mNone\u001b[39;00m:\n\u001b[32m-> \u001b[39m\u001b[32m1026\u001b[39m         outputs = \u001b[43mfast_forward_inference\u001b[49m\u001b[43m(\u001b[49m\n\u001b[32m   1027\u001b[39m \u001b[43m            \u001b[49m\u001b[38;5;28;43mself\u001b[39;49m\u001b[43m,\u001b[49m\n\u001b[32m   1028\u001b[39m \u001b[43m            \u001b[49m\u001b[43minput_ids\u001b[49m\u001b[43m,\u001b[49m\n\u001b[32m   1029\u001b[39m \u001b[43m            \u001b[49m\u001b[43mpast_key_values\u001b[49m\u001b[43m,\u001b[49m\n\u001b[32m   1030\u001b[39m \u001b[43m            \u001b[49m\u001b[43mposition_ids\u001b[49m\u001b[43m \u001b[49m\u001b[43m=\u001b[49m\u001b[43m \u001b[49m\u001b[43mposition_ids\u001b[49m\u001b[43m,\u001b[49m\n\u001b[32m   1031\u001b[39m \u001b[43m            \u001b[49m\u001b[43mattention_mask\u001b[49m\u001b[43m \u001b[49m\u001b[43m=\u001b[49m\u001b[43m \u001b[49m\u001b[43mattention_mask\u001b[49m\u001b[43m,\u001b[49m\n\u001b[32m   1032\u001b[39m \u001b[43m        \u001b[49m\u001b[43m)\u001b[49m\n\u001b[32m   1033\u001b[39m     \u001b[38;5;28;01melse\u001b[39;00m:\n\u001b[32m   1034\u001b[39m         causal_mask = xformers.attn_bias.LowerTriangularMask() \u001b[38;5;28;01mif\u001b[39;00m HAS_XFORMERS \u001b[38;5;28;01melse\u001b[39;00m \u001b[38;5;28;01mNone\u001b[39;00m\n",
      "\u001b[36mFile \u001b[39m\u001b[32m/data/mn27889/miniconda3/envs/mental-health-agents/lib/python3.12/site-packages/unsloth/models/llama.py:962\u001b[39m, in \u001b[36mLlamaModel_fast_forward_inference\u001b[39m\u001b[34m(self, input_ids, past_key_values, position_ids, attention_mask)\u001b[39m\n\u001b[32m    954\u001b[39m residual.copy_(X) \u001b[38;5;66;03m# residual = X\u001b[39;00m\n\u001b[32m    955\u001b[39m X = fast_rms_layernorm_inference(\n\u001b[32m    956\u001b[39m     decoder_layer.input_layernorm,\n\u001b[32m    957\u001b[39m     X,\n\u001b[32m   (...)\u001b[39m\u001b[32m    960\u001b[39m     variance = variance,\n\u001b[32m    961\u001b[39m )\n\u001b[32m--> \u001b[39m\u001b[32m962\u001b[39m X, present_key_value = \u001b[43mLlamaAttention_fast_forward_inference\u001b[49m\u001b[43m(\u001b[49m\n\u001b[32m    963\u001b[39m \u001b[43m    \u001b[49m\u001b[43mdecoder_layer\u001b[49m\u001b[43m.\u001b[49m\u001b[43mself_attn\u001b[49m\u001b[43m,\u001b[49m\n\u001b[32m    964\u001b[39m \u001b[43m    \u001b[49m\u001b[43mhidden_states\u001b[49m\u001b[43m \u001b[49m\u001b[43m=\u001b[49m\u001b[43m \u001b[49m\u001b[43mX\u001b[49m\u001b[43m,\u001b[49m\n\u001b[32m    965\u001b[39m \u001b[43m    \u001b[49m\u001b[43mpast_key_value\u001b[49m\u001b[43m \u001b[49m\u001b[43m=\u001b[49m\u001b[43m \u001b[49m\u001b[43mpast_key_values\u001b[49m\u001b[43m[\u001b[49m\u001b[43midx\u001b[49m\u001b[43m]\u001b[49m\u001b[43m,\u001b[49m\n\u001b[32m    966\u001b[39m \u001b[43m    \u001b[49m\u001b[43mposition_ids\u001b[49m\u001b[43m \u001b[49m\u001b[43m=\u001b[49m\u001b[43m \u001b[49m\u001b[43mposition_ids\u001b[49m\u001b[43m,\u001b[49m\n\u001b[32m    967\u001b[39m \u001b[43m    \u001b[49m\u001b[43mattention_mask\u001b[49m\u001b[43m \u001b[49m\u001b[43m=\u001b[49m\u001b[43m \u001b[49m\u001b[43mattention_mask\u001b[49m\u001b[43m,\u001b[49m\n\u001b[32m    968\u001b[39m \u001b[43m    \u001b[49m\u001b[43mdo_prefill\u001b[49m\u001b[43m \u001b[49m\u001b[43m=\u001b[49m\u001b[43m \u001b[49m\u001b[38;5;129;43;01mnot\u001b[39;49;00m\u001b[43m \u001b[49m\u001b[38;5;28;43mhasattr\u001b[39;49m\u001b[43m(\u001b[49m\u001b[43mdecoder_layer\u001b[49m\u001b[43m.\u001b[49m\u001b[43mself_attn\u001b[49m\u001b[43m,\u001b[49m\u001b[43m \u001b[49m\u001b[33;43m\"\u001b[39;49m\u001b[33;43mpaged_attention\u001b[39;49m\u001b[33;43m\"\u001b[39;49m\u001b[43m)\u001b[49m\u001b[43m,\u001b[49m\n\u001b[32m    969\u001b[39m \u001b[43m\u001b[49m\u001b[43m)\u001b[49m\n\u001b[32m    970\u001b[39m X += residual\n\u001b[32m    972\u001b[39m residual.copy_(X) \u001b[38;5;66;03m# residual = X\u001b[39;00m\n",
      "\u001b[36mFile \u001b[39m\u001b[32m/data/mn27889/miniconda3/envs/mental-health-agents/lib/python3.12/site-packages/unsloth/models/llama.py:276\u001b[39m, in \u001b[36mLlamaAttention_fast_forward_inference\u001b[39m\u001b[34m(self, hidden_states, past_key_value, position_ids, do_prefill, attention_mask)\u001b[39m\n\u001b[32m    274\u001b[39m     A = torch_matmul(Qn, Knn.transpose(\u001b[32m2\u001b[39m, \u001b[32m3\u001b[39m), out = \u001b[38;5;28mself\u001b[39m.attention[:,:,:,:cached_len])\n\u001b[32m    275\u001b[39m     \u001b[38;5;66;03m# if attention_mask is not None: A += attention_mask # Must add attention_mask for batched\u001b[39;00m\n\u001b[32m--> \u001b[39m\u001b[32m276\u001b[39m     A[:] = \u001b[43mtorch_nn_functional_softmax\u001b[49m\u001b[43m(\u001b[49m\u001b[43mA\u001b[49m\u001b[43m,\u001b[49m\u001b[43m \u001b[49m\u001b[43mdim\u001b[49m\u001b[43m \u001b[49m\u001b[43m=\u001b[49m\u001b[43m \u001b[49m\u001b[43m-\u001b[49m\u001b[32;43m1\u001b[39;49m\u001b[43m,\u001b[49m\u001b[43m \u001b[49m\u001b[43mdtype\u001b[49m\u001b[43m \u001b[49m\u001b[43m=\u001b[49m\u001b[43m \u001b[49m\u001b[43mtorch\u001b[49m\u001b[43m.\u001b[49m\u001b[43mfloat32\u001b[49m\u001b[43m)\u001b[49m\u001b[38;5;66;03m#.to(A.dtype)\u001b[39;00m\n\u001b[32m    277\u001b[39m     A = torch_matmul(A, Vnn, out = Qn)\n\u001b[32m    278\u001b[39m \u001b[38;5;28;01melse\u001b[39;00m:\n",
      "\u001b[36mFile \u001b[39m\u001b[32m/data/mn27889/miniconda3/envs/mental-health-agents/lib/python3.12/site-packages/torch/nn/functional.py:1890\u001b[39m, in \u001b[36msoftmax\u001b[39m\u001b[34m(input, dim, _stacklevel, dtype)\u001b[39m\n\u001b[32m   1888\u001b[39m     ret = \u001b[38;5;28minput\u001b[39m.softmax(dim)\n\u001b[32m   1889\u001b[39m \u001b[38;5;28;01melse\u001b[39;00m:\n\u001b[32m-> \u001b[39m\u001b[32m1890\u001b[39m     ret = \u001b[38;5;28;43minput\u001b[39;49m\u001b[43m.\u001b[49m\u001b[43msoftmax\u001b[49m\u001b[43m(\u001b[49m\u001b[43mdim\u001b[49m\u001b[43m,\u001b[49m\u001b[43m \u001b[49m\u001b[43mdtype\u001b[49m\u001b[43m=\u001b[49m\u001b[43mdtype\u001b[49m\u001b[43m)\u001b[49m\n\u001b[32m   1891\u001b[39m \u001b[38;5;28;01mreturn\u001b[39;00m ret\n",
      "\u001b[31mKeyboardInterrupt\u001b[39m: "
     ]
    }
   ],
   "source": [
    "# Implementing the Unsloth Fast Inference\n",
    "FastLanguageModel.for_inference(model)\n",
    "\n",
    "llama_responses_ft = []\n",
    "for index, row in tqdm(gpt_inf_data_phase1.iterrows(), total=len(gpt_inf_data_phase1)):\n",
    "    question_input = row['gpt_response_base']\n",
    "    llama_resp = get_llama_response_ft(question_input)\n",
    "    llama_responses_ft.append(llama_resp)\n",
    "\n",
    "with open('phase2_kabatubare_medical/llama_responses_ft.pkl', 'wb') as file:\n",
    "    pickle.dump(llama_responses_ft, file)"
   ]
  },
  {
   "cell_type": "code",
   "execution_count": 17,
   "metadata": {},
   "outputs": [
    {
     "data": {
      "text/plain": [
       "[\"It sounds like you're seeking information about Attention-Deficit/Hyperactivity Disorder (ADHD) and its potential symptoms, as well as the importance of consulting a qualified healthcare professional for diagnosis and guidance. Here are some key points to consider based on the information provided:\\n\\n1. **Symptom Variability**: ADHD symptoms can fluctuate in intensity and may be more noticeable in specific settings (like school) versus others (like home). This variability can be influenced by various factors, including environment, routine, and emotional state.\\n\\n2. **Cyclical Symptoms**: The pattern of symptoms lasting 20 days followed by 10 days without could suggest a cyclical nature, which might be related to other conditions or situational factors. It's important to consider whether there are external influences that could trigger these episodes.\\n\\n3. **Observation and Documentation**: Keeping a detailed diary of symptoms, potential triggers, and associated factors can provide valuable insights for both you and any healthcare providers. This can help identify patterns and correlations.\\n\\n4. **Consultation with Professionals**: Speaking with a pediatrician or child psychologist can provide a comprehensive evaluation of your child's behavior and help rule out or confirm other conditions. They can also offer strategies and interventions that may be helpful.\\n\\n5. **Holistic Approach**: It’s crucial to consider a holistic approach that includes not just behavioral aspects but also environmental factors, diet, sleep patterns, and emotional well-being.\\n\\n6. **Early Intervention**: If you suspect ADHD or any other condition, early intervention is essential. Supportive strategies and interventions can significantly improve outcomes for children.\\n\\nIf you have further questions or need additional information, feel free to ask!\",\n",
       " \"It's great that you're looking for ways to support your son in managing his weight while ensuring he remains healthy. Weight management can be particularly challenging for children and adolescents, especially those taking stimulant medications like Concerta, which can suppress appetite. Here are some additional strategies that you might consider:\\n\\n### 1. **Mindful Eating Practices**:\\n   - **Eat Together**: Encourage family meals where everyone eats together. This can foster a sense of community and help with social eating habits.\\n   - **Use Colorful Plates**: Presenting colorful foods can make meals more appealing and encourage a wider variety of fruits and vegetables.\\n\\n### 2. **Incorporate Movement into Daily Life**:\\n   - **Active Breaks**: Encourage short active breaks throughout the day, such as jumping jacks or stretching exercises.\\n   - **Walk or Bike**: Encourage regular walks or bike rides as a family, which can be both enjoyable and beneficial for physical activity.\\n\\n### 3. **Healthy Foods**:\\n   - **Fruits and Vegetables**: Focus on fruits and vegetables, which are nutrient-dense and low in calories. Consider preparing them in fun ways, like making fruit kebabs or vegetable wraps.\\n   - **Protein Sources**: Include lean protein sources such as chicken, fish, beans, and legumes to help maintain muscle mass and keep him full.\\n\\n### 4. **Limit Sugary Foods**:\\n   - Be mindful of sugary snacks and drinks, which can contribute to weight gain. Opt for healthier alternatives like fruit or yogurt.\\n\\n### 5. **Encourage Hydration**:\\n   - Keep water readily available and encourage him to drink water throughout the day instead of sugary beverages.\\n\\n### 6. **Set Realistic Goals**:\\n   - Focus on gradual weight loss rather than quick fixes. Aim for a slow and steady approach to help him develop healthy habits.\\n\\n### 7. **Be a Role Model**:\\n   - Model healthy eating and active behaviors yourself. Children often learn by observing their parents’ habits.\\n\\n### 8. **Seek Support**:\\n   - Consider involving a therapist or counselor who specializes in childhood obesity or ADHD. They can help address emotional and psychological aspects of weight management.\\n\\n### 9. **Monitor Progress**:\\n   - Keep track of his weight and dietary habits. Regular check-ins can help identify patterns and areas for improvement.\\n\\n### 10. **Consult a Specialist**:\\n   - If you're concerned about his weight or the effects of the medication, consider consulting a pediatric endocrinologist or a registered dietitian who specializes in childhood obesity.\\n\\nRemember, every child is unique, and it’s important to tailor strategies to your son's individual needs and preferences. Open communication and a supportive environment are key to helping him develop healthy habits.\",\n",
       " \"I'm sorry to hear that you're feeling this way. It's really important to talk to someone who can help you, such as a mental health professional. They can provide you with support and resources to help you through this difficult time. Please take care of yourself and don't hesitate to reach out for help. You're not alone.\",\n",
       " \"It's important to approach the topic of stopping Concerta (methylphenidate) for ADHD with care and understanding. Here are some key points to consider:\\n\\n1. **Consult a Healthcare Professional**: Before stopping any medication, especially one like Concerta that is prescribed for ADHD, it is crucial to consult a healthcare provider. They can provide personalized advice and ensure that the decision to stop is safe and appropriate.\\n\\n2. **Understand the Risks and Benefits**: Each individual’s response to medication can vary, and while some may experience a return of symptoms, others may find relief. A healthcare provider can help weigh the pros and cons based on your teenager's specific situation.\\n\\n3. **Explore Alternative Treatments**: If discontinuing Concerta is recommended, it’s important to discuss alternative treatments or strategies for managing ADHD symptoms. These can include behavioral therapy, lifestyle changes, and other medications if necessary.\\n\\n4. **Monitor Symptoms and Mental Health**: After stopping the medication, it’s essential to monitor your teenager’s mental health and any symptoms they may experience. This includes tracking mood, behavior, and overall functioning.\\n\\n5. **Support Systems**: Ensure that your teenager has a support system in place, whether through family, friends, or professional counseling. This can help them navigate any challenges they may face after stopping the medication.\\n\\n6. **Education and Awareness**: Educate yourself and your teenager about ADHD and the potential effects of medication withdrawal. Understanding the condition can empower you to make informed choices.\\n\\nIf you have specific concerns or questions about your teenager’s health or medication, it’s always best to consult with a healthcare professional who can provide tailored advice and support.\",\n",
       " \"It sounds like you're experiencing difficulties in obtaining Respa-Ar due to supply issues or the manufacturer discontinuing it. Here are some steps you can take to address the situation:\\n\\n1. **Contact Your Pharmacy:** Speak with your pharmacist about the unavailability. They may have insights into the expected return of stock or alternative medications that could work for you.\\n\\n2. **Talk to Your Doctor:** Your healthcare provider can recommend alternative treatments or medications for your allergies that are more readily available.\\n\\n3. **Check with the Manufacturer:** If you can find contact information for the manufacturer, they may provide updates on whether Respa-Ar will be re-released or if there are plans for an alternative product.\\n\\n4. **Explore Other Pharmacies:** If your current pharmacy is out of stock, consider checking other pharmacies in your area to see if they have it available.\\n\\n5. **Ask About Substitutions:** If you cannot get Respa-Ar, ask your pharmacist if there are any other medications that could be effective for your symptoms.\\n\\nIf none of these options work, your healthcare provider can help you find a suitable alternative based on your specific needs.\",\n",
       " 'Pharmacists play a crucial role in community healthcare, serving as a primary source of medication expertise and health information. Their contributions extend far beyond dispensing prescriptions; they are integral to ensuring safe and effective patient care through various roles and responsibilities. Here are some key points highlighting the importance of pharmacists in community health:\\n\\n### Key Points about Pharmacists in Community Health\\n\\n1. **Medication Dispensing and Education:**\\n   - Pharmacists are responsible for ensuring that patients understand their medications, including proper dosages, timing, and potential side effects, which is critical for effective treatment.\\n\\n2. **Health Screenings and Immunizations:**\\n   - Many pharmacists offer health screenings and administer vaccines, making healthcare more accessible and improving public health outcomes.\\n\\n3. **Chronic Disease Management:**\\n   - Pharmacists can provide significant support in managing chronic conditions, helping patients adhere to treatment plans and make necessary lifestyle changes.\\n\\n4. **Collaboration with Healthcare Providers:**\\n   - Pharmacists work closely with doctors and other healthcare professionals to ensure coordinated care and optimize medication regimens.\\n\\n5. **Community Health Initiatives:**\\n   - Pharmacists often engage in community health programs, advocating for better health practices and educating the public on various health topics.\\n\\n6. **Accessibility and Convenience:**\\n   - The convenience of pharmacy services, including extended hours and walk-in appointments, makes it easier for patients to seek advice and information.\\n\\n7. **Advocacy for Patient Safety:**\\n   - Pharmacists can help identify potential medication errors and ensure that patients receive safe and appropriate treatments.\\n\\n8. **Continuing Education:**\\n   - Pharmacists must stay updated on the latest medications and treatments, ensuring that they can provide the best possible care to patients.\\n\\n### Benefits of Pharmacists in Community Health\\n\\n1. **Improved Patient Outcomes:**\\n   - Effective medication management and education can lead to better health outcomes and reduced hospitalization rates.\\n\\n2. **Enhanced Patient Satisfaction:**\\n   - Pharmacists can address patient concerns and provide personalized advice, enhancing overall satisfaction with healthcare services.\\n\\n3. **Cost-Effective Care:**\\n   - By promoting adherence to treatment plans and reducing unnecessary medications, pharmacists can help reduce healthcare costs.\\n\\n4. **Public Health Impact:**\\n   - Community pharmacists can contribute to public health initiatives, particularly in underserved areas, promoting health education and access to care.\\n\\nIn summary, pharmacists are essential members of the healthcare team, providing critical support in ensuring safe and effective patient care. Their commitment to education, advocacy, and community engagement makes them a vital resource for improving health outcomes in communities across the nation.',\n",
       " \"It sounds like you are already taking some important steps to address your daughter's feeding challenges, and that's commendable. However, I would like to add a few more considerations that might be helpful:\\n\\n1. **Keep a Food Diary:** Documenting what she eats, how she reacts to different foods, and any associated symptoms can be very helpful for both her healthcare providers and the feeding therapist.\\n\\n2. **Be Patient and Supportive:** Sometimes, children need time to explore new foods. Being patient and encouraging her without pressure can help her feel more comfortable trying new things.\\n\\n3. **Involve the Family:** Involving other family members in her eating experiences can make mealtime more enjoyable and less stressful for her.\\n\\n4. **Explore Different Textures and Formats:** Some children may struggle with certain textures. Experimenting with purees, smoothies, or soft foods can sometimes make it easier for them to eat.\\n\\n5. **Limit Distractions:** Keeping distractions to a minimum during meals can help her focus on eating and may encourage her to try new foods.\\n\\n6. **Consider a Food Trial:** Sometimes, a structured food trial (like a food challenge) can help children gradually introduce new foods without feeling overwhelmed.\\n\\n7. **Stay Informed About Nutrition:** Keeping up with nutritional guidelines for children can help you provide a balanced diet, even if she has limited intake.\\n\\n8. **Seek Support for Yourself:** Caring for a child with feeding challenges can be stressful for parents. Consider seeking support from support groups or counseling for caregivers.\\n\\nRemember, every child is different, and what works for one may not work for another. Collaboration with healthcare professionals and patience will be key in navigating these challenges.\",\n",
       " \"It sounds like you're looking for guidance on weight loss and understanding how your body processes calories. Here are some key points to consider:\\n\\n1. **Caloric Needs**: It's important to understand your individual caloric needs, which can vary significantly based on age, sex, weight, height, and activity level. A common rule of thumb is to multiply your weight in pounds by 15 to estimate your daily caloric needs.\\n\\n2. **Balanced Diet**: Focus on a balanced diet rich in fruits, vegetables, whole grains, lean proteins, and healthy fats. These foods provide essential nutrients and can help you feel full longer.\\n\\n3. **Portion Control**: Even healthy foods can contribute to weight gain if eaten in large portions. Pay attention to portion sizes to help manage your calorie intake.\\n\\n4. **Stay Hydrated**: Sometimes, thirst can be mistaken for hunger. Drinking plenty of water throughout the day can help you stay hydrated and reduce unnecessary calorie intake.\\n\\n5. **Physical Activity**: Incorporating regular physical activity into your routine can help you burn calories and maintain a healthy weight. Aim for at least 150 minutes of moderate aerobic activity per week, along with strength training exercises at least twice a week.\\n\\n6. **Listen to Your Body**: Everyone's body responds differently to food and exercise. It's important to listen to your body and adjust your habits accordingly. If certain foods make you feel bloated or uncomfortable, it may be worth reconsidering your diet.\\n\\n7. **Mindful Eating**: Paying attention to what you eat and how you eat can help you make healthier choices. Try to eat slowly and savor your food, which can help you enjoy your meals more and reduce overeating.\\n\\n8. **Seek Support**: Consider joining a support group or working with a registered dietitian or a nutritionist who can provide guidance and accountability as you work towards your weight loss goals.\\n\\nRemember, weight loss is a personal journey, and it's important to be patient and kind to yourself along the way. Focus on making sustainable lifestyle changes rather than quick fixes.\",\n",
       " \"It's crucial to approach the issue of swallowing difficulties with medications thoughtfully. Here are some key points to consider:\\n\\n1. **Consult Your Healthcare Provider**: If you have trouble swallowing pills, it’s essential to discuss this with your doctor or pharmacist. They can assess your specific situation and determine whether an alternative formulation is available.\\n\\n2. **Liquid Formulations**: Some medications are specifically formulated as liquids, which can be easier to swallow. Your healthcare provider can check if your medication is available in this form.\\n\\n3. **Compounding**: In some cases, a pharmacist can compound a medication into a liquid form. This is often an option for certain medications that are not available in liquid form.\\n\\n4. **Alternative Delivery Methods**: Depending on the medication and your swallowing difficulties, there may be other delivery methods available, such as chewable tablets, capsules that do not require swallowing, or even injectable forms.\\n\\n5. **Communication with Your Healthcare Team**: Make sure to communicate any ongoing difficulties or concerns about your medication regimen to your healthcare provider. This can lead to a more tailored approach to your treatment.\\n\\n6. **Patient Assistance Programs**: Some pharmaceutical companies offer patient assistance programs that can provide medications at reduced costs or even for free if you qualify.\\n\\nAlways prioritize safety and effectiveness when making changes to your medication regimen, and never stop or change your medication without consulting a healthcare professional.\",\n",
       " \"Managing pancreatitis through diet is crucial for reducing inflammation and promoting healing. Here's a breakdown of the foods to include and avoid, along with some additional tips for maintaining a healthy diet while living with pancreatitis.\\n\\n### Foods to Eat:\\n1. **Low-Fat Foods:** \\n   - Skinless poultry, lean cuts of red meat, fish (especially fatty fish like salmon), and eggs.\\n\\n2. **Fruits:**\\n   - Fresh fruits like apples, bananas, berries, and melons. Dried fruits can also be included in moderation.\\n\\n3. **Vegetables:**\\n   - Leafy greens, broccoli, carrots, and sweet potatoes.\\n\\n4. **Whole Grains:**\\n   - Brown rice, quinoa, oats, and whole grain bread (in moderation).\\n\\n5. **Legumes:**\\n   - Lentils, chickpeas, and beans (in moderation).\\n\\n6. **Dairy Alternatives:**\\n   - Low-fat or non-fat yogurt (plain) and unsweetened almond or soy milk.\\n\\n7. **Healthy Fats:**\\n   - Avocado, olive oil, nuts, and seeds (in moderation).\\n\\n8. **Clear Fluids:**\\n   - Water, herbal teas, and clear broths.\\n\\n### Foods to Avoid:\\n1. **High-Fat Foods:**\\n   - Fried foods, greasy foods, high-fat cuts of meat, and full-fat dairy products.\\n\\n2. **Processed Foods:**\\n   - Processed snacks, sugary foods, and refined carbohydrates.\\n\\n3. **Alcohol:**\\n   - All forms of alcohol should be avoided as it can worsen inflammation.\\n\\n4. **Spicy Foods:**\\n   - Foods with a lot of spices or hot peppers may irritate the pancreas.\\n\\n5. **Caffeinated Beverages:**\\n   - Coffee and certain sodas should be limited.\\n\\n6. **Sugary Foods:**\\n   - Candy, desserts, and sugary drinks can contribute to complications.\\n\\n7. **Red Meat and Processed Meats:**\\n   - Bacon, sausage, and high-fat beef products can be hard on the pancreas.\\n\\n### Additional Tips:\\n- **Eat Small Meals:** Consuming smaller, more frequent meals can help reduce the workload on the pancreas.\\n- **Stay Hydrated:** Drink plenty of water throughout the day to stay hydrated.\\n- **Monitor Reactions:** Pay attention to how your body reacts to different foods and adjust your diet accordingly.\\n- **Consult a Professional:** Always consult with a healthcare provider or a dietitian for personalized advice tailored to your specific situation.\\n\\nBy following these guidelines and making dietary adjustments, individuals with pancreatitis can help manage their condition effectively and improve their quality of life.\",\n",
       " \"That's a comprehensive overview of how a whole foods plant-based diet may help reduce the risk of certain types of cancer. It's important to note that while this diet can contribute to overall health and potentially lower cancer risk, it is not a guarantee and should be combined with other healthy lifestyle choices.\\n\\nHere are a few key points from your summary:\\n\\n1. **Whole Foods Plant-Based Diet**: Emphasizes the consumption of whole, minimally processed plant foods, including fruits, vegetables, whole grains, legumes, nuts, and seeds. It limits or avoids animal products and highly processed foods.\\n\\n2. **Cancer Risk Reduction**: Diets high in fruits and vegetables are associated with a lower risk of certain cancers, such as colorectal, breast, and prostate cancer. This is largely due to the presence of fiber, vitamins, minerals, and antioxidants.\\n\\n3. **Potential Protective Factors**: Reducing saturated fat intake, increasing fiber consumption, and eating a diet rich in phytonutrients may help protect against cancer. Additionally, maintaining a healthy weight is crucial, as obesity is a known risk factor for several cancers.\\n\\n4. **Holistic Approach**: While dietary changes can be beneficial, cancer risk is influenced by a range of factors including genetics, lifestyle, and environmental exposures. It's advisable to consider a holistic approach to cancer prevention.\\n\\n5. **Consultation**: For individuals with a strong family history of cancer, consulting a healthcare professional or a registered dietitian can provide personalized guidance and support for making dietary changes.\\n\\nIn summary, adopting a whole foods plant-based diet can be a valuable component of a cancer prevention strategy, but it should be part of a comprehensive approach that includes other healthy lifestyle choices.\",\n",
       " \"It seems you are looking for advice on why weight loss on a low-carb diet may not be occurring, and you're considering various factors that could affect your results. Here are some key points to consider:\\n\\n### 1. **Caloric Deficit**\\n   - Ensure that you are in a caloric deficit. Even with a low-calorie intake, if you're consuming more calories than you burn, weight loss won't happen.\\n\\n### 2. **Macronutrient Balance**\\n   - Review your macronutrient ratios. Ensure you're not over-consuming calories from fats, which can be calorie-dense.\\n\\n### 3. **Protein Intake**\\n   - Consider balancing your protein intake to support muscle maintenance without excessive calorie intake. Depending on your activity level and goals, your protein needs may vary.\\n\\n### 4. **Hydration and Water Retention**\\n   - Sometimes, weight loss stalls due to water retention. Ensure you are drinking enough water and consider factors that may contribute to bloating or retention, like sodium intake.\\n\\n### 5. **Physical Activity**\\n   - Engage in regular exercise, including strength training and cardio, to boost your metabolism and support weight loss.\\n\\n### 6. **Sleep and Stress**\\n   - Poor sleep and high-stress levels can affect your hormones and metabolism, making weight loss more challenging. Aim for good sleep hygiene and stress management techniques.\\n\\n### 7. **Medical Conditions**\\n   - Certain medical conditions or medications can interfere with weight loss efforts. If you suspect this might be the case, consult with a healthcare provider.\\n\\n### 8. **Individual Variation**\\n   - Weight loss is highly individual. What works for one person may not work for another, and sometimes it can take time to find the right balance for your body.\\n\\n### Additional Considerations\\n- **Track Your Progress**: Keeping a food diary or using a tracking app can help you identify patterns and make adjustments.\\n- **Consult a Professional**: If you're struggling to make progress, consider consulting a registered dietitian or a healthcare provider who specializes in weight management.\\n\\nBy examining these factors and making necessary adjustments, you may find it easier to achieve your weight loss goals on a low-carb diet.\",\n",
       " \"It seems you're looking for detailed information about what can be absorbed in the stomach and how it contributes to overall nutrient absorption. Here’s a breakdown of the key points:\\n\\n1. **Substances Absorbed in the Stomach**:\\n   - **Water**: A small percentage, around 20% or less.\\n   - **Alcohol**: About 20% absorption occurs in the stomach, with the rest happening in the small intestine.\\n   - **Some Drugs**: Certain medications, like aspirin and caffeine, are also absorbed in the stomach.\\n\\n2. **Role of the Stomach**:\\n   - The stomach primarily digests food through mechanical mixing and gastric juices (acid and enzymes).\\n   - It doesn’t absorb macronutrients or most micronutrients; that happens mainly in the small intestine.\\n\\n3. **Nutrient Absorption**:\\n   - Most nutrients (carbohydrates, proteins, fats, vitamins, and minerals) are absorbed in the small intestine.\\n   - The stomach prepares food for absorption by breaking it down, but significant absorption occurs later.\\n\\n4. **General Impact**:\\n   - The stomach plays a critical role in preparing the contents for absorption but is not a primary site for nutrient uptake.\\n\\nIf you have a specific substance in mind, feel free to ask, and I can provide more details regarding its absorption in the stomach and the small intestine!\",\n",
       " \"Having another baby after three cesarean sections is indeed a complex decision that requires careful consideration of several factors. It's important to weigh the potential risks and benefits, including:\\n\\n1. **Uterine Integrity**: As you mentioned, each C-section can increase the risk of scar complications. It's crucial to assess the condition of your uterine scars and any potential weaknesses.\\n\\n2. **Pregnancy Risks**: Subsequent pregnancies may carry a higher risk of complications such as placental issues, which can impact both maternal and fetal health.\\n\\n3. **Consultation with Healthcare Provider**: Consulting with an obstetrician or maternal-fetal medicine specialist is vital. They can provide personalized assessments based on your medical history, the nature of your previous deliveries, and any other health considerations.\\n\\n4. **Delivery Options**: Depending on your individual circumstances, your doctor may recommend a repeat C-section over a vaginal birth after cesarean (VBAC), especially if there are concerns about scar integrity or other complications.\\n\\n5. **Family Planning**: Consider how many children you wish to have and your overall health and family dynamics. This will help guide your decision and ensure that you feel prepared for the next stage of your family planning.\\n\\nUltimately, the decision should be made in collaboration with your healthcare provider, taking into account your unique health profile and family situation. It's essential to make an informed choice that prioritizes your well-being and that of your future children.\",\n",
       " \"Yes, a sudden increase in hemoglobin A1c (HbA1c) levels can be concerning and may indicate a change in blood glucose control. The range of 6.2 to 11.4% suggests that you are currently experiencing elevated blood sugar levels, which may indicate diabetes or prediabetes, especially if you have a history of diabetes management.\\n\\nIt's important to consult with a healthcare provider as soon as possible to discuss these elevated A1c levels. They may recommend the following steps:\\n\\n1. **Blood Glucose Monitoring**: Regular monitoring of blood glucose levels can provide insights into how well your body is responding to insulin or dietary changes.\\n\\n2. **Dietary Review**: A healthcare provider can help assess your diet and suggest a meal plan that can help manage blood sugar levels.\\n\\n3. **Medication Adjustments**: If you are on diabetes medications, your healthcare provider may need to adjust the dosage or type of medication based on your current A1c levels.\\n\\n4. **Lifestyle Modifications**: Recommendations on physical activity, weight management, and stress management can also be crucial in stabilizing blood glucose levels.\\n\\n5. **Further Testing**: Depending on the cause of the elevated A1c, additional tests may be required to rule out other conditions or complications.\\n\\nRemember, early intervention can help manage blood sugar levels effectively and prevent potential complications associated with diabetes.\",\n",
       " \"It's great that you're looking into different ways to assess your health beyond BMI, especially since it doesn't account for muscle mass, body composition, and fat distribution. Here are some key points to consider regarding the alternatives you mentioned:\\n\\n1. **Body Composition Analysis**: Techniques like hydrostatic weighing and DEXA scans can provide a more accurate assessment of body composition. Bioelectrical impedance analysis (BIA) is another method that can estimate body fat percentage, though results can vary.\\n\\n2. **Waist Circumference**: A waist circumference of over 40 inches (102 cm) for men and over 35 inches (88 cm) for women is generally considered a risk factor for metabolic syndrome and other health issues. Regular monitoring can be beneficial.\\n\\n3. **Body Fat Percentage**: This can vary widely among individuals, especially among athletes and those with higher muscle mass. It’s important to track this in conjunction with other health markers.\\n\\n4. **Waist-to-Height Ratio**: This ratio can provide insight into how your body stores fat, particularly around the waist. A lower ratio is often associated with a lower risk of health problems.\\n\\n5. **Lifestyle Factors**: Maintaining a balanced diet, engaging in regular physical activity, managing stress, and ensuring adequate sleep are all crucial for overall health. A registered dietitian can help create a personalized nutrition plan.\\n\\n6. **Consult Healthcare Providers**: It’s always a good idea to discuss your health goals and concerns with a healthcare professional, especially if you have specific health conditions or concerns. They can provide tailored advice based on your individual health needs.\\n\\nIncorporating these methods into your health routine can provide a more comprehensive view of your health status and help you make informed decisions about your lifestyle.\"]"
      ]
     },
     "execution_count": 17,
     "metadata": {},
     "output_type": "execute_result"
    }
   ],
   "source": [
    "llama_responses_ft"
   ]
  },
  {
   "cell_type": "code",
   "execution_count": null,
   "metadata": {},
   "outputs": [],
   "source": [
    "with open('phase2_kabatubare_medical/llama_responses_ft.pkl', 'rb') as file:\n",
    "    llama_responses_ft = pickle.load(file)"
   ]
  }
 ],
 "metadata": {
  "kernelspec": {
   "display_name": "mental-health-agents",
   "language": "python",
   "name": "python3"
  },
  "language_info": {
   "codemirror_mode": {
    "name": "ipython",
    "version": 3
   },
   "file_extension": ".py",
   "mimetype": "text/x-python",
   "name": "python",
   "nbconvert_exporter": "python",
   "pygments_lexer": "ipython3",
   "version": "3.12.9"
  }
 },
 "nbformat": 4,
 "nbformat_minor": 2
}
