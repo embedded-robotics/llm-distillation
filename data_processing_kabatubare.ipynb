{
 "cells": [
  {
   "cell_type": "markdown",
   "metadata": {},
   "source": [
    "## Data Processing\n",
    "\n",
    "This notebook will process the data into train and test sets so that they can be further used"
   ]
  },
  {
   "cell_type": "code",
   "execution_count": 21,
   "metadata": {},
   "outputs": [],
   "source": [
    "from datasets import load_dataset\n",
    "import json\n",
    "from tqdm import tqdm"
   ]
  },
  {
   "cell_type": "markdown",
   "metadata": {},
   "source": [
    "### Get the Medical Healthcare dataset"
   ]
  },
  {
   "cell_type": "code",
   "execution_count": 3,
   "metadata": {},
   "outputs": [
    {
     "data": {
      "text/plain": [
       "Dataset({\n",
       "    features: ['Context', 'Question', 'Answer'],\n",
       "    num_rows: 23437\n",
       "})"
      ]
     },
     "execution_count": 3,
     "metadata": {},
     "output_type": "execute_result"
    }
   ],
   "source": [
    "dataset_name = \"Kabatubare/medical\"\n",
    "dataset = load_dataset(dataset_name, split=\"all\")\n",
    "dataset"
   ]
  },
  {
   "cell_type": "markdown",
   "metadata": {},
   "source": [
    "Shuffling the dataset and dividing into train test spli"
   ]
  },
  {
   "cell_type": "code",
   "execution_count": 5,
   "metadata": {},
   "outputs": [
    {
     "data": {
      "text/plain": [
       "DatasetDict({\n",
       "    train: Dataset({\n",
       "        features: ['Context', 'Question', 'Answer'],\n",
       "        num_rows: 21093\n",
       "    })\n",
       "    test: Dataset({\n",
       "        features: ['Context', 'Question', 'Answer'],\n",
       "        num_rows: 2344\n",
       "    })\n",
       "})"
      ]
     },
     "execution_count": 5,
     "metadata": {},
     "output_type": "execute_result"
    }
   ],
   "source": [
    "dataset = dataset.shuffle(seed=42)\n",
    "dataset = dataset.train_test_split(test_size=0.1)\n",
    "dataset"
   ]
  },
  {
   "cell_type": "markdown",
   "metadata": {},
   "source": [
    "### Putting both the training and test data into jsonl files"
   ]
  },
  {
   "cell_type": "markdown",
   "metadata": {},
   "source": [
    "Converting to Pandas Dataframe"
   ]
  },
  {
   "cell_type": "code",
   "execution_count": 18,
   "metadata": {},
   "outputs": [
    {
     "data": {
      "text/html": [
       "<div>\n",
       "<style scoped>\n",
       "    .dataframe tbody tr th:only-of-type {\n",
       "        vertical-align: middle;\n",
       "    }\n",
       "\n",
       "    .dataframe tbody tr th {\n",
       "        vertical-align: top;\n",
       "    }\n",
       "\n",
       "    .dataframe thead th {\n",
       "        text-align: right;\n",
       "    }\n",
       "</style>\n",
       "<table border=\"1\" class=\"dataframe\">\n",
       "  <thead>\n",
       "    <tr style=\"text-align: right;\">\n",
       "      <th></th>\n",
       "      <th>sample_id</th>\n",
       "      <th>Context</th>\n",
       "      <th>Question</th>\n",
       "      <th>Answer</th>\n",
       "    </tr>\n",
       "  </thead>\n",
       "  <tbody>\n",
       "    <tr>\n",
       "      <th>0</th>\n",
       "      <td>0</td>\n",
       "      <td>You are a medical knowledge assistant trained ...</td>\n",
       "      <td>i want to know what i can eat while i have a s...</td>\n",
       "      <td>it used to be recommended that people with ulc...</td>\n",
       "    </tr>\n",
       "    <tr>\n",
       "      <th>1</th>\n",
       "      <td>1</td>\n",
       "      <td>You are a medical knowledge assistant trained ...</td>\n",
       "      <td>are immigrants putting the u. s. at increased ...</td>\n",
       "      <td>people applying to enter the u. s. with immigr...</td>\n",
       "    </tr>\n",
       "    <tr>\n",
       "      <th>2</th>\n",
       "      <td>2</td>\n",
       "      <td>You are a medical knowledge assistant trained ...</td>\n",
       "      <td>my 6 year old keeps triggering the sensation t...</td>\n",
       "      <td>this is completely normal. he is a normal sens...</td>\n",
       "    </tr>\n",
       "    <tr>\n",
       "      <th>3</th>\n",
       "      <td>3</td>\n",
       "      <td>You are a medical knowledge assistant trained ...</td>\n",
       "      <td>my daughter 'zones out' for 5-20 seconds often...</td>\n",
       "      <td>sounds like my history--epilepsy at age 14 com...</td>\n",
       "    </tr>\n",
       "    <tr>\n",
       "      <th>4</th>\n",
       "      <td>4</td>\n",
       "      <td>You are a medical knowledge assistant trained ...</td>\n",
       "      <td>is surgery the only option for a smaller fibro...</td>\n",
       "      <td>hi as its started top grow this is normal to h...</td>\n",
       "    </tr>\n",
       "    <tr>\n",
       "      <th>...</th>\n",
       "      <td>...</td>\n",
       "      <td>...</td>\n",
       "      <td>...</td>\n",
       "      <td>...</td>\n",
       "    </tr>\n",
       "    <tr>\n",
       "      <th>21088</th>\n",
       "      <td>21088</td>\n",
       "      <td>You are a medical knowledge assistant trained ...</td>\n",
       "      <td>how can i manage nausea or vomiting during pre...</td>\n",
       "      <td>an upset stomach is one of the most common dis...</td>\n",
       "    </tr>\n",
       "    <tr>\n",
       "      <th>21089</th>\n",
       "      <td>21089</td>\n",
       "      <td>You are a medical knowledge assistant trained ...</td>\n",
       "      <td>2 days after my shingle vaccine i have a red p...</td>\n",
       "      <td>it is not uncommon to get local inflammation f...</td>\n",
       "    </tr>\n",
       "    <tr>\n",
       "      <th>21090</th>\n",
       "      <td>21090</td>\n",
       "      <td>You are a medical knowledge assistant trained ...</td>\n",
       "      <td>sharp back neck and arm pain on the left side....</td>\n",
       "      <td>you should see your doctor. sharp pain like th...</td>\n",
       "    </tr>\n",
       "    <tr>\n",
       "      <th>21091</th>\n",
       "      <td>21091</td>\n",
       "      <td>You are a medical knowledge assistant trained ...</td>\n",
       "      <td>what are the symptoms of hypothyroidism?</td>\n",
       "      <td>features of hypothyroidism can go unsuspected ...</td>\n",
       "    </tr>\n",
       "    <tr>\n",
       "      <th>21092</th>\n",
       "      <td>21092</td>\n",
       "      <td>You are a medical knowledge assistant trained ...</td>\n",
       "      <td>after my dental exam and cleaning i noticed my...</td>\n",
       "      <td>dentists are very careful so it is unlikely th...</td>\n",
       "    </tr>\n",
       "  </tbody>\n",
       "</table>\n",
       "<p>21093 rows × 4 columns</p>\n",
       "</div>"
      ],
      "text/plain": [
       "       sample_id                                            Context  \\\n",
       "0              0  You are a medical knowledge assistant trained ...   \n",
       "1              1  You are a medical knowledge assistant trained ...   \n",
       "2              2  You are a medical knowledge assistant trained ...   \n",
       "3              3  You are a medical knowledge assistant trained ...   \n",
       "4              4  You are a medical knowledge assistant trained ...   \n",
       "...          ...                                                ...   \n",
       "21088      21088  You are a medical knowledge assistant trained ...   \n",
       "21089      21089  You are a medical knowledge assistant trained ...   \n",
       "21090      21090  You are a medical knowledge assistant trained ...   \n",
       "21091      21091  You are a medical knowledge assistant trained ...   \n",
       "21092      21092  You are a medical knowledge assistant trained ...   \n",
       "\n",
       "                                                Question  \\\n",
       "0      i want to know what i can eat while i have a s...   \n",
       "1      are immigrants putting the u. s. at increased ...   \n",
       "2      my 6 year old keeps triggering the sensation t...   \n",
       "3      my daughter 'zones out' for 5-20 seconds often...   \n",
       "4      is surgery the only option for a smaller fibro...   \n",
       "...                                                  ...   \n",
       "21088  how can i manage nausea or vomiting during pre...   \n",
       "21089  2 days after my shingle vaccine i have a red p...   \n",
       "21090  sharp back neck and arm pain on the left side....   \n",
       "21091           what are the symptoms of hypothyroidism?   \n",
       "21092  after my dental exam and cleaning i noticed my...   \n",
       "\n",
       "                                                  Answer  \n",
       "0      it used to be recommended that people with ulc...  \n",
       "1      people applying to enter the u. s. with immigr...  \n",
       "2      this is completely normal. he is a normal sens...  \n",
       "3      sounds like my history--epilepsy at age 14 com...  \n",
       "4      hi as its started top grow this is normal to h...  \n",
       "...                                                  ...  \n",
       "21088  an upset stomach is one of the most common dis...  \n",
       "21089  it is not uncommon to get local inflammation f...  \n",
       "21090  you should see your doctor. sharp pain like th...  \n",
       "21091  features of hypothyroidism can go unsuspected ...  \n",
       "21092  dentists are very careful so it is unlikely th...  \n",
       "\n",
       "[21093 rows x 4 columns]"
      ]
     },
     "execution_count": 18,
     "metadata": {},
     "output_type": "execute_result"
    }
   ],
   "source": [
    "dataset_train = dataset['train'].to_pandas()\n",
    "dataset_train = dataset_train.reset_index().rename(columns={'index':'sample_id'}) #extracting the sample_id\n",
    "dataset_train"
   ]
  },
  {
   "cell_type": "code",
   "execution_count": 19,
   "metadata": {},
   "outputs": [
    {
     "data": {
      "text/html": [
       "<div>\n",
       "<style scoped>\n",
       "    .dataframe tbody tr th:only-of-type {\n",
       "        vertical-align: middle;\n",
       "    }\n",
       "\n",
       "    .dataframe tbody tr th {\n",
       "        vertical-align: top;\n",
       "    }\n",
       "\n",
       "    .dataframe thead th {\n",
       "        text-align: right;\n",
       "    }\n",
       "</style>\n",
       "<table border=\"1\" class=\"dataframe\">\n",
       "  <thead>\n",
       "    <tr style=\"text-align: right;\">\n",
       "      <th></th>\n",
       "      <th>sample_id</th>\n",
       "      <th>Context</th>\n",
       "      <th>Question</th>\n",
       "      <th>Answer</th>\n",
       "    </tr>\n",
       "  </thead>\n",
       "  <tbody>\n",
       "    <tr>\n",
       "      <th>0</th>\n",
       "      <td>0</td>\n",
       "      <td>You are a medical knowledge assistant trained ...</td>\n",
       "      <td>i'm always nervous and my heart beats too fast...</td>\n",
       "      <td>you are describing classic signs of anxiety. i...</td>\n",
       "    </tr>\n",
       "    <tr>\n",
       "      <th>1</th>\n",
       "      <td>1</td>\n",
       "      <td>You are a medical knowledge assistant trained ...</td>\n",
       "      <td>i’m worried about my husband not taking care o...</td>\n",
       "      <td>men need skin care regimens too. they should c...</td>\n",
       "    </tr>\n",
       "    <tr>\n",
       "      <th>2</th>\n",
       "      <td>2</td>\n",
       "      <td>You are a medical knowledge assistant trained ...</td>\n",
       "      <td>are there lifestyle and dietary factors that c...</td>\n",
       "      <td>weight is a really important factor to the pos...</td>\n",
       "    </tr>\n",
       "    <tr>\n",
       "      <th>3</th>\n",
       "      <td>3</td>\n",
       "      <td>You are a medical knowledge assistant trained ...</td>\n",
       "      <td>what is latent and silent celiac disease?</td>\n",
       "      <td>the terms latent and silent celiac disease are...</td>\n",
       "    </tr>\n",
       "    <tr>\n",
       "      <th>4</th>\n",
       "      <td>4</td>\n",
       "      <td>You are a medical knowledge assistant trained ...</td>\n",
       "      <td>how will doctors find out if a woman and her p...</td>\n",
       "      <td>doctors will do an infertility checkup. this i...</td>\n",
       "    </tr>\n",
       "    <tr>\n",
       "      <th>...</th>\n",
       "      <td>...</td>\n",
       "      <td>...</td>\n",
       "      <td>...</td>\n",
       "      <td>...</td>\n",
       "    </tr>\n",
       "    <tr>\n",
       "      <th>2339</th>\n",
       "      <td>2339</td>\n",
       "      <td>You are a medical knowledge assistant trained ...</td>\n",
       "      <td>is there an equivalent over the counter medica...</td>\n",
       "      <td>thanks for your question. i understand your si...</td>\n",
       "    </tr>\n",
       "    <tr>\n",
       "      <th>2340</th>\n",
       "      <td>2340</td>\n",
       "      <td>You are a medical knowledge assistant trained ...</td>\n",
       "      <td>how do i balance my diet for diabetes high blo...</td>\n",
       "      <td>stage 3 kidney disease is not good. more than ...</td>\n",
       "    </tr>\n",
       "    <tr>\n",
       "      <th>2341</th>\n",
       "      <td>2341</td>\n",
       "      <td>You are a medical knowledge assistant trained ...</td>\n",
       "      <td>hi i am 23 is it normal to have heart rate at ...</td>\n",
       "      <td>hi here's a link from webmd it should help you...</td>\n",
       "    </tr>\n",
       "    <tr>\n",
       "      <th>2342</th>\n",
       "      <td>2342</td>\n",
       "      <td>You are a medical knowledge assistant trained ...</td>\n",
       "      <td>i performed oral on a man who said as far as h...</td>\n",
       "      <td>any form of unprotected sex has it's risk if t...</td>\n",
       "    </tr>\n",
       "    <tr>\n",
       "      <th>2343</th>\n",
       "      <td>2343</td>\n",
       "      <td>You are a medical knowledge assistant trained ...</td>\n",
       "      <td>can the flu shot make me achy a week after get...</td>\n",
       "      <td>no normally you might feel a litlle achy or ha...</td>\n",
       "    </tr>\n",
       "  </tbody>\n",
       "</table>\n",
       "<p>2344 rows × 4 columns</p>\n",
       "</div>"
      ],
      "text/plain": [
       "      sample_id                                            Context  \\\n",
       "0             0  You are a medical knowledge assistant trained ...   \n",
       "1             1  You are a medical knowledge assistant trained ...   \n",
       "2             2  You are a medical knowledge assistant trained ...   \n",
       "3             3  You are a medical knowledge assistant trained ...   \n",
       "4             4  You are a medical knowledge assistant trained ...   \n",
       "...         ...                                                ...   \n",
       "2339       2339  You are a medical knowledge assistant trained ...   \n",
       "2340       2340  You are a medical knowledge assistant trained ...   \n",
       "2341       2341  You are a medical knowledge assistant trained ...   \n",
       "2342       2342  You are a medical knowledge assistant trained ...   \n",
       "2343       2343  You are a medical knowledge assistant trained ...   \n",
       "\n",
       "                                               Question  \\\n",
       "0     i'm always nervous and my heart beats too fast...   \n",
       "1     i’m worried about my husband not taking care o...   \n",
       "2     are there lifestyle and dietary factors that c...   \n",
       "3             what is latent and silent celiac disease?   \n",
       "4     how will doctors find out if a woman and her p...   \n",
       "...                                                 ...   \n",
       "2339  is there an equivalent over the counter medica...   \n",
       "2340  how do i balance my diet for diabetes high blo...   \n",
       "2341  hi i am 23 is it normal to have heart rate at ...   \n",
       "2342  i performed oral on a man who said as far as h...   \n",
       "2343  can the flu shot make me achy a week after get...   \n",
       "\n",
       "                                                 Answer  \n",
       "0     you are describing classic signs of anxiety. i...  \n",
       "1     men need skin care regimens too. they should c...  \n",
       "2     weight is a really important factor to the pos...  \n",
       "3     the terms latent and silent celiac disease are...  \n",
       "4     doctors will do an infertility checkup. this i...  \n",
       "...                                                 ...  \n",
       "2339  thanks for your question. i understand your si...  \n",
       "2340  stage 3 kidney disease is not good. more than ...  \n",
       "2341  hi here's a link from webmd it should help you...  \n",
       "2342  any form of unprotected sex has it's risk if t...  \n",
       "2343  no normally you might feel a litlle achy or ha...  \n",
       "\n",
       "[2344 rows x 4 columns]"
      ]
     },
     "execution_count": 19,
     "metadata": {},
     "output_type": "execute_result"
    }
   ],
   "source": [
    "dataset_test = dataset['test'].to_pandas()\n",
    "dataset_test = dataset_test.reset_index().rename(columns={'index':'sample_id'}) #extracting the sample_id\n",
    "dataset_test"
   ]
  },
  {
   "cell_type": "markdown",
   "metadata": {},
   "source": [
    "Saving the json elements in a list"
   ]
  },
  {
   "cell_type": "code",
   "execution_count": 22,
   "metadata": {},
   "outputs": [],
   "source": [
    "train_dataset_json_list = []\n",
    "\n",
    "for index, row in dataset_train.iterrows():\n",
    "    json_element = {'sample_id': row['sample_id'],\n",
    "                    'context': row['Context'],\n",
    "                    'question': row['Question'],\n",
    "                    'answer': row['Answer']}\n",
    "    \n",
    "    train_dataset_json_list.append(json_element)"
   ]
  },
  {
   "cell_type": "code",
   "execution_count": 23,
   "metadata": {},
   "outputs": [],
   "source": [
    "test_dataset_json_list = []\n",
    "\n",
    "for index, row in dataset_test.iterrows():\n",
    "    json_element = {'sample_id': row['sample_id'],\n",
    "                    'context': row['Context'],\n",
    "                    'question': row['Question'],\n",
    "                    'answer': row['Answer']}\n",
    "    \n",
    "    test_dataset_json_list.append(json_element)"
   ]
  },
  {
   "cell_type": "markdown",
   "metadata": {},
   "source": [
    "Saving the samples line by line in a jsonl file"
   ]
  },
  {
   "cell_type": "code",
   "execution_count": 24,
   "metadata": {},
   "outputs": [],
   "source": [
    "file_path = \"data_kabatubare/train_kabatubare.jsonl\"\n",
    "\n",
    "with open(file_path, 'w') as file:\n",
    "    for element in train_dataset_json_list:\n",
    "        json_line = json.dumps(element)\n",
    "        file.write(json_line + '\\n')"
   ]
  },
  {
   "cell_type": "code",
   "execution_count": 25,
   "metadata": {},
   "outputs": [],
   "source": [
    "file_path = \"data_kabatubare/test_kabatubare.jsonl\"\n",
    "\n",
    "with open(file_path, 'w') as file:\n",
    "    for element in test_dataset_json_list:\n",
    "        json_line = json.dumps(element)\n",
    "        file.write(json_line + '\\n')"
   ]
  },
  {
   "cell_type": "code",
   "execution_count": null,
   "metadata": {},
   "outputs": [],
   "source": []
  }
 ],
 "metadata": {
  "kernelspec": {
   "display_name": "mental-health-agents",
   "language": "python",
   "name": "python3"
  },
  "language_info": {
   "codemirror_mode": {
    "name": "ipython",
    "version": 3
   },
   "file_extension": ".py",
   "mimetype": "text/x-python",
   "name": "python",
   "nbconvert_exporter": "python",
   "pygments_lexer": "ipython3",
   "version": "3.12.9"
  }
 },
 "nbformat": 4,
 "nbformat_minor": 2
}
