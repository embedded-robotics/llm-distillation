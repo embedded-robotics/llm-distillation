{
 "cells": [
  {
   "cell_type": "markdown",
   "metadata": {},
   "source": [
    "### LLaMA Supervised Fine-Tuning\n",
    "\n",
    "This document will take the answers of GPT-4o on the Kababutare Medical Dataset and then fine-tune the LLaMA Model on those answers.\n",
    "\n",
    "The purpose of this exercise is to test whether the LLaMA fine-tuning is able to distill the knowledge of GPT-4o and improve the performance on the open-ended question/answering related to healthcare dataset"
   ]
  },
  {
   "cell_type": "code",
   "execution_count": 1,
   "metadata": {},
   "outputs": [],
   "source": [
    "import os"
   ]
  },
  {
   "cell_type": "code",
   "execution_count": 2,
   "metadata": {},
   "outputs": [],
   "source": [
    "os.environ[\"CUDA_VISIBLE_DEVICES\"] = \"0\""
   ]
  },
  {
   "cell_type": "code",
   "execution_count": 3,
   "metadata": {},
   "outputs": [
    {
     "name": "stdout",
     "output_type": "stream",
     "text": [
      "🦥 Unsloth: Will patch your computer to enable 2x faster free finetuning.\n"
     ]
    },
    {
     "name": "stderr",
     "output_type": "stream",
     "text": [
      "/data/mn27889/miniconda3/envs/mental-health-agents/lib/python3.12/site-packages/tqdm/auto.py:21: TqdmWarning: IProgress not found. Please update jupyter and ipywidgets. See https://ipywidgets.readthedocs.io/en/stable/user_install.html\n",
      "  from .autonotebook import tqdm as notebook_tqdm\n"
     ]
    },
    {
     "name": "stdout",
     "output_type": "stream",
     "text": [
      "🦥 Unsloth Zoo will now patch everything to make training faster!\n"
     ]
    }
   ],
   "source": [
    "import pandas as pd\n",
    "import json\n",
    "import torch\n",
    "import pickle\n",
    "from unsloth import FastLanguageModel\n",
    "from datasets import Dataset\n",
    "from tqdm  import tqdm\n",
    "import evaluate"
   ]
  },
  {
   "cell_type": "markdown",
   "metadata": {},
   "source": [
    "#### Reading the Question and Answer Pairs from Test Dataset Phase 2"
   ]
  },
  {
   "cell_type": "code",
   "execution_count": 4,
   "metadata": {},
   "outputs": [],
   "source": [
    "ques_list = []\n",
    "ans_list = []\n",
    "llama_resp_list = []\n",
    "gpt_resp_list = []\n",
    "\n",
    "with open('phase2_data_kabatubare/test_kabatubare.jsonl', 'rb') as file:\n",
    "    for line in file:\n",
    "        json_object = json.loads(line)\n",
    "        ques_list.append(json_object['question'])\n",
    "        ans_list.append(json_object['answer'])\n",
    "        llama_resp_list.append(json_object['llama_response_base'])\n",
    "        gpt_resp_list.append(json_object['gpt_response_base'])"
   ]
  },
  {
   "cell_type": "code",
   "execution_count": 5,
   "metadata": {},
   "outputs": [
    {
     "data": {
      "text/html": [
       "<div>\n",
       "<style scoped>\n",
       "    .dataframe tbody tr th:only-of-type {\n",
       "        vertical-align: middle;\n",
       "    }\n",
       "\n",
       "    .dataframe tbody tr th {\n",
       "        vertical-align: top;\n",
       "    }\n",
       "\n",
       "    .dataframe thead th {\n",
       "        text-align: right;\n",
       "    }\n",
       "</style>\n",
       "<table border=\"1\" class=\"dataframe\">\n",
       "  <thead>\n",
       "    <tr style=\"text-align: right;\">\n",
       "      <th></th>\n",
       "      <th>question</th>\n",
       "      <th>answer</th>\n",
       "      <th>llama_response_base</th>\n",
       "      <th>gpt_response_base</th>\n",
       "    </tr>\n",
       "  </thead>\n",
       "  <tbody>\n",
       "    <tr>\n",
       "      <th>0</th>\n",
       "      <td>i don't have periods due to taking nuvaring. h...</td>\n",
       "      <td>you really shouldn't worry about getting pregn...</td>\n",
       "      <td>I'm happy to help you with your concern. Since...</td>\n",
       "      <td>If you're using NuvaRing and have missed it by...</td>\n",
       "    </tr>\n",
       "    <tr>\n",
       "      <th>1</th>\n",
       "      <td>when you can't digest food. my daughter is 38 ...</td>\n",
       "      <td>i'm sorry your daughter is having a hard time....</td>\n",
       "      <td>I'm so sorry to hear that your daughter is exp...</td>\n",
       "      <td>I'm sorry to hear about your daughter's strugg...</td>\n",
       "    </tr>\n",
       "    <tr>\n",
       "      <th>2</th>\n",
       "      <td>8 wks post-hemorrhoidectomy. knife-like pain o...</td>\n",
       "      <td>i'm sorry you're going through this. hemorrhoi...</td>\n",
       "      <td>I'm not a doctor, but I can try to provide som...</td>\n",
       "      <td>I'm sorry to hear that you're experiencing the...</td>\n",
       "    </tr>\n",
       "    <tr>\n",
       "      <th>3</th>\n",
       "      <td>i sometimes feel a mild discomfort under my le...</td>\n",
       "      <td>after reading your full statement i would also...</td>\n",
       "      <td>I'm not a medical professional, but I can try ...</td>\n",
       "      <td>I'm not a doctor, but I can offer some general...</td>\n",
       "    </tr>\n",
       "    <tr>\n",
       "      <th>4</th>\n",
       "      <td>i had sex about 12 hours ago and i'm noticing ...</td>\n",
       "      <td>hi ok if your shaved and this is on your pubic...</td>\n",
       "      <td>I'm not a medical professional, but I can prov...</td>\n",
       "      <td>It's good that you're paying attention to chan...</td>\n",
       "    </tr>\n",
       "    <tr>\n",
       "      <th>...</th>\n",
       "      <td>...</td>\n",
       "      <td>...</td>\n",
       "      <td>...</td>\n",
       "      <td>...</td>\n",
       "    </tr>\n",
       "    <tr>\n",
       "      <th>4683</th>\n",
       "      <td>bright blood in stool for a while now burning ...</td>\n",
       "      <td>hi but as your not really well now i still thi...</td>\n",
       "      <td>I'm not a doctor, but I can provide some gener...</td>\n",
       "      <td>I'm not a doctor, but the symptoms you're desc...</td>\n",
       "    </tr>\n",
       "    <tr>\n",
       "      <th>4684</th>\n",
       "      <td>i feel fine i'm in a great mood but food taste...</td>\n",
       "      <td>well i'm happy you're in a good mood anyway! i...</td>\n",
       "      <td>I'm glad you're feeling fine overall, but the ...</td>\n",
       "      <td>It's good to hear that you're feeling fine and...</td>\n",
       "    </tr>\n",
       "    <tr>\n",
       "      <th>4685</th>\n",
       "      <td>i have recently had unprotected sex and both m...</td>\n",
       "      <td>you had unprotected sex? it is your \"other\" he...</td>\n",
       "      <td>I'm here to provide you with information and g...</td>\n",
       "      <td>Experiencing irritation on the head of the pen...</td>\n",
       "    </tr>\n",
       "    <tr>\n",
       "      <th>4686</th>\n",
       "      <td>is there a coated naproxen medication to preve...</td>\n",
       "      <td>all over-the-counter and prescription-strength...</td>\n",
       "      <td>Yes, there are coated naproxen medications ava...</td>\n",
       "      <td>Yes, there are formulations of naproxen that a...</td>\n",
       "    </tr>\n",
       "    <tr>\n",
       "      <th>4687</th>\n",
       "      <td>what are some nonimpact activities for people ...</td>\n",
       "      <td>non-impact exercise program for people with os...</td>\n",
       "      <td>There are several non-impact activities that c...</td>\n",
       "      <td>For people with osteoporosis, engaging in non-...</td>\n",
       "    </tr>\n",
       "  </tbody>\n",
       "</table>\n",
       "<p>4688 rows × 4 columns</p>\n",
       "</div>"
      ],
      "text/plain": [
       "                                               question  \\\n",
       "0     i don't have periods due to taking nuvaring. h...   \n",
       "1     when you can't digest food. my daughter is 38 ...   \n",
       "2     8 wks post-hemorrhoidectomy. knife-like pain o...   \n",
       "3     i sometimes feel a mild discomfort under my le...   \n",
       "4     i had sex about 12 hours ago and i'm noticing ...   \n",
       "...                                                 ...   \n",
       "4683  bright blood in stool for a while now burning ...   \n",
       "4684  i feel fine i'm in a great mood but food taste...   \n",
       "4685  i have recently had unprotected sex and both m...   \n",
       "4686  is there a coated naproxen medication to preve...   \n",
       "4687  what are some nonimpact activities for people ...   \n",
       "\n",
       "                                                 answer  \\\n",
       "0     you really shouldn't worry about getting pregn...   \n",
       "1     i'm sorry your daughter is having a hard time....   \n",
       "2     i'm sorry you're going through this. hemorrhoi...   \n",
       "3     after reading your full statement i would also...   \n",
       "4     hi ok if your shaved and this is on your pubic...   \n",
       "...                                                 ...   \n",
       "4683  hi but as your not really well now i still thi...   \n",
       "4684  well i'm happy you're in a good mood anyway! i...   \n",
       "4685  you had unprotected sex? it is your \"other\" he...   \n",
       "4686  all over-the-counter and prescription-strength...   \n",
       "4687  non-impact exercise program for people with os...   \n",
       "\n",
       "                                    llama_response_base  \\\n",
       "0     I'm happy to help you with your concern. Since...   \n",
       "1     I'm so sorry to hear that your daughter is exp...   \n",
       "2     I'm not a doctor, but I can try to provide som...   \n",
       "3     I'm not a medical professional, but I can try ...   \n",
       "4     I'm not a medical professional, but I can prov...   \n",
       "...                                                 ...   \n",
       "4683  I'm not a doctor, but I can provide some gener...   \n",
       "4684  I'm glad you're feeling fine overall, but the ...   \n",
       "4685  I'm here to provide you with information and g...   \n",
       "4686  Yes, there are coated naproxen medications ava...   \n",
       "4687  There are several non-impact activities that c...   \n",
       "\n",
       "                                      gpt_response_base  \n",
       "0     If you're using NuvaRing and have missed it by...  \n",
       "1     I'm sorry to hear about your daughter's strugg...  \n",
       "2     I'm sorry to hear that you're experiencing the...  \n",
       "3     I'm not a doctor, but I can offer some general...  \n",
       "4     It's good that you're paying attention to chan...  \n",
       "...                                                 ...  \n",
       "4683  I'm not a doctor, but the symptoms you're desc...  \n",
       "4684  It's good to hear that you're feeling fine and...  \n",
       "4685  Experiencing irritation on the head of the pen...  \n",
       "4686  Yes, there are formulations of naproxen that a...  \n",
       "4687  For people with osteoporosis, engaging in non-...  \n",
       "\n",
       "[4688 rows x 4 columns]"
      ]
     },
     "execution_count": 5,
     "metadata": {},
     "output_type": "execute_result"
    }
   ],
   "source": [
    "test_dataset = pd.DataFrame({'question': ques_list,\n",
    "                          'answer': ans_list,\n",
    "                          'llama_response_base': llama_resp_list,\n",
    "                          'gpt_response_base': gpt_resp_list})\n",
    "test_dataset"
   ]
  },
  {
   "cell_type": "markdown",
   "metadata": {},
   "source": [
    "### Inference"
   ]
  },
  {
   "cell_type": "code",
   "execution_count": null,
   "metadata": {},
   "outputs": [],
   "source": [
    "# full_model_path = \"./llama32-sft-full-kabatubare-phase2-distill\"\n",
    "peft_model_path = \"./llama32-sft-peft-kabatubare-phase2-distill\" #use for LoRA based fine-tuning"
   ]
  },
  {
   "cell_type": "code",
   "execution_count": null,
   "metadata": {},
   "outputs": [],
   "source": [
    "model, tokenizer = FastLanguageModel.from_pretrained(\n",
    "    model_name = peft_model_path,\n",
    "    max_seq_length = 2048,\n",
    "    load_in_4bit = False, # 4 bit quantization to reduce memory\n",
    "    load_in_8bit = False, # [NEW!] A bit more accurate, uses 2x memory\n",
    "    full_finetuning = False, # [NEW!] We have full finetuning now!\n",
    "    dtype=None, #None for auto-detection. Can be torch.bfloat16 or torch.float16 (will be automatically detected)\n",
    "    device_map=\"auto\"\n",
    ")"
   ]
  },
  {
   "cell_type": "markdown",
   "metadata": {},
   "source": [
    "Implementing sample-by-sample inference. (Batch Inference doesn't work well for fine-tuned model adapters as responses like `P P P P` are being produced)"
   ]
  },
  {
   "cell_type": "code",
   "execution_count": null,
   "metadata": {},
   "outputs": [],
   "source": [
    "def get_llama_response_ft(question_input: str):\n",
    "    \n",
    "    llama_input = [{\"role\": \"system\", \"content\": \"You are a medical knowledge assistant trained to provide information and guidance on various health-related topics.\"},\n",
    "                    {\"role\": \"user\", \"content\": question_input}]\n",
    "\n",
    "    prompt = tokenizer.apply_chat_template(llama_input, tokenize=False, add_generation_prompt=True)\n",
    "    \n",
    "    inputs = tokenizer(prompt, padding=True, truncation=True, return_tensors=\"pt\").to(model.device)\n",
    "    temp_resp = tokenizer.decode(inputs['input_ids'][0], skip_special_tokens=True)\n",
    "    \n",
    "    outputs = model.generate(\n",
    "        **inputs, \n",
    "        max_new_tokens=2048,\n",
    "        num_return_sequences=1\n",
    "    )\n",
    "\n",
    "    resp = tokenizer.decode(outputs[0], skip_special_tokens=True)\n",
    "    resp = resp[len(temp_resp):] #getting only the response part (i.e., assistant)\n",
    "    \n",
    "    return resp"
   ]
  },
  {
   "cell_type": "code",
   "execution_count": null,
   "metadata": {},
   "outputs": [],
   "source": [
    "# # Implementing the Unsloth Fast Inference\n",
    "# FastLanguageModel.for_inference(model)\n",
    "\n",
    "# llama_responses_distill_ft = []\n",
    "# for index, row in tqdm(test_dataset.iterrows(), total=len(test_dataset)):\n",
    "#     question_input = row['question']\n",
    "#     llama_resp = get_llama_response_ft(question_input)\n",
    "#     llama_responses_distill_ft.append(llama_resp)\n",
    "\n",
    "# with open('phase2_kabatubare_medical/llama_responses_distill_ft.pkl', 'wb') as file:\n",
    "#     pickle.dump(llama_responses_distill_ft, file)"
   ]
  },
  {
   "cell_type": "code",
   "execution_count": null,
   "metadata": {},
   "outputs": [],
   "source": [
    "with open('phase2_kabatubare_medical/llama_responses_distill_ft.pkl', 'rb') as file:\n",
    "    llama_responses_distill_ft = pickle.load(file)"
   ]
  },
  {
   "cell_type": "markdown",
   "metadata": {},
   "source": [
    "### Saving the LLaMA Fine-Tuned Responses into the complete dataframe"
   ]
  },
  {
   "cell_type": "code",
   "execution_count": null,
   "metadata": {},
   "outputs": [
    {
     "data": {
      "text/html": [
       "<div>\n",
       "<style scoped>\n",
       "    .dataframe tbody tr th:only-of-type {\n",
       "        vertical-align: middle;\n",
       "    }\n",
       "\n",
       "    .dataframe tbody tr th {\n",
       "        vertical-align: top;\n",
       "    }\n",
       "\n",
       "    .dataframe thead th {\n",
       "        text-align: right;\n",
       "    }\n",
       "</style>\n",
       "<table border=\"1\" class=\"dataframe\">\n",
       "  <thead>\n",
       "    <tr style=\"text-align: right;\">\n",
       "      <th></th>\n",
       "      <th>question</th>\n",
       "      <th>answer</th>\n",
       "      <th>llama_response_base</th>\n",
       "      <th>gpt_response_base</th>\n",
       "      <th>llama_response_ft</th>\n",
       "    </tr>\n",
       "  </thead>\n",
       "  <tbody>\n",
       "    <tr>\n",
       "      <th>0</th>\n",
       "      <td>i don't have periods due to taking nuvaring. h...</td>\n",
       "      <td>you really shouldn't worry about getting pregn...</td>\n",
       "      <td>I'm happy to help you with your concern. Since...</td>\n",
       "      <td>If you're using NuvaRing and have missed it by...</td>\n",
       "      <td>If you are using the NuvaRing and have missed ...</td>\n",
       "    </tr>\n",
       "    <tr>\n",
       "      <th>1</th>\n",
       "      <td>when you can't digest food. my daughter is 38 ...</td>\n",
       "      <td>i'm sorry your daughter is having a hard time....</td>\n",
       "      <td>I'm so sorry to hear that your daughter is exp...</td>\n",
       "      <td>I'm sorry to hear about your daughter's strugg...</td>\n",
       "      <td>I'm sorry to hear about your daughter's strugg...</td>\n",
       "    </tr>\n",
       "    <tr>\n",
       "      <th>2</th>\n",
       "      <td>8 wks post-hemorrhoidectomy. knife-like pain o...</td>\n",
       "      <td>i'm sorry you're going through this. hemorrhoi...</td>\n",
       "      <td>I'm not a doctor, but I can try to provide som...</td>\n",
       "      <td>I'm sorry to hear that you're experiencing the...</td>\n",
       "      <td>I'm not a doctor, but I can provide some gener...</td>\n",
       "    </tr>\n",
       "    <tr>\n",
       "      <th>3</th>\n",
       "      <td>i sometimes feel a mild discomfort under my le...</td>\n",
       "      <td>after reading your full statement i would also...</td>\n",
       "      <td>I'm not a medical professional, but I can try ...</td>\n",
       "      <td>I'm not a doctor, but I can offer some general...</td>\n",
       "      <td>I'm not a doctor, but I can provide some infor...</td>\n",
       "    </tr>\n",
       "    <tr>\n",
       "      <th>4</th>\n",
       "      <td>i had sex about 12 hours ago and i'm noticing ...</td>\n",
       "      <td>hi ok if your shaved and this is on your pubic...</td>\n",
       "      <td>I'm not a medical professional, but I can prov...</td>\n",
       "      <td>It's good that you're paying attention to chan...</td>\n",
       "      <td>It's important to monitor any new or unusual s...</td>\n",
       "    </tr>\n",
       "    <tr>\n",
       "      <th>...</th>\n",
       "      <td>...</td>\n",
       "      <td>...</td>\n",
       "      <td>...</td>\n",
       "      <td>...</td>\n",
       "      <td>...</td>\n",
       "    </tr>\n",
       "    <tr>\n",
       "      <th>4683</th>\n",
       "      <td>bright blood in stool for a while now burning ...</td>\n",
       "      <td>hi but as your not really well now i still thi...</td>\n",
       "      <td>I'm not a doctor, but I can provide some gener...</td>\n",
       "      <td>I'm not a doctor, but the symptoms you're desc...</td>\n",
       "      <td>I'm not a doctor, but the symptoms you're desc...</td>\n",
       "    </tr>\n",
       "    <tr>\n",
       "      <th>4684</th>\n",
       "      <td>i feel fine i'm in a great mood but food taste...</td>\n",
       "      <td>well i'm happy you're in a good mood anyway! i...</td>\n",
       "      <td>I'm glad you're feeling fine overall, but the ...</td>\n",
       "      <td>It's good to hear that you're feeling fine and...</td>\n",
       "      <td>It sounds like you're experiencing a change in...</td>\n",
       "    </tr>\n",
       "    <tr>\n",
       "      <th>4685</th>\n",
       "      <td>i have recently had unprotected sex and both m...</td>\n",
       "      <td>you had unprotected sex? it is your \"other\" he...</td>\n",
       "      <td>I'm here to provide you with information and g...</td>\n",
       "      <td>Experiencing irritation on the head of the pen...</td>\n",
       "      <td>It's not uncommon to experience some irritatio...</td>\n",
       "    </tr>\n",
       "    <tr>\n",
       "      <th>4686</th>\n",
       "      <td>is there a coated naproxen medication to preve...</td>\n",
       "      <td>all over-the-counter and prescription-strength...</td>\n",
       "      <td>Yes, there are coated naproxen medications ava...</td>\n",
       "      <td>Yes, there are formulations of naproxen that a...</td>\n",
       "      <td>Yes, there are formulations of naproxen that a...</td>\n",
       "    </tr>\n",
       "    <tr>\n",
       "      <th>4687</th>\n",
       "      <td>what are some nonimpact activities for people ...</td>\n",
       "      <td>non-impact exercise program for people with os...</td>\n",
       "      <td>There are several non-impact activities that c...</td>\n",
       "      <td>For people with osteoporosis, engaging in non-...</td>\n",
       "      <td>For individuals with osteoporosis, it's import...</td>\n",
       "    </tr>\n",
       "  </tbody>\n",
       "</table>\n",
       "<p>4688 rows × 5 columns</p>\n",
       "</div>"
      ],
      "text/plain": [
       "                                               question  \\\n",
       "0     i don't have periods due to taking nuvaring. h...   \n",
       "1     when you can't digest food. my daughter is 38 ...   \n",
       "2     8 wks post-hemorrhoidectomy. knife-like pain o...   \n",
       "3     i sometimes feel a mild discomfort under my le...   \n",
       "4     i had sex about 12 hours ago and i'm noticing ...   \n",
       "...                                                 ...   \n",
       "4683  bright blood in stool for a while now burning ...   \n",
       "4684  i feel fine i'm in a great mood but food taste...   \n",
       "4685  i have recently had unprotected sex and both m...   \n",
       "4686  is there a coated naproxen medication to preve...   \n",
       "4687  what are some nonimpact activities for people ...   \n",
       "\n",
       "                                                 answer  \\\n",
       "0     you really shouldn't worry about getting pregn...   \n",
       "1     i'm sorry your daughter is having a hard time....   \n",
       "2     i'm sorry you're going through this. hemorrhoi...   \n",
       "3     after reading your full statement i would also...   \n",
       "4     hi ok if your shaved and this is on your pubic...   \n",
       "...                                                 ...   \n",
       "4683  hi but as your not really well now i still thi...   \n",
       "4684  well i'm happy you're in a good mood anyway! i...   \n",
       "4685  you had unprotected sex? it is your \"other\" he...   \n",
       "4686  all over-the-counter and prescription-strength...   \n",
       "4687  non-impact exercise program for people with os...   \n",
       "\n",
       "                                    llama_response_base  \\\n",
       "0     I'm happy to help you with your concern. Since...   \n",
       "1     I'm so sorry to hear that your daughter is exp...   \n",
       "2     I'm not a doctor, but I can try to provide som...   \n",
       "3     I'm not a medical professional, but I can try ...   \n",
       "4     I'm not a medical professional, but I can prov...   \n",
       "...                                                 ...   \n",
       "4683  I'm not a doctor, but I can provide some gener...   \n",
       "4684  I'm glad you're feeling fine overall, but the ...   \n",
       "4685  I'm here to provide you with information and g...   \n",
       "4686  Yes, there are coated naproxen medications ava...   \n",
       "4687  There are several non-impact activities that c...   \n",
       "\n",
       "                                      gpt_response_base  \\\n",
       "0     If you're using NuvaRing and have missed it by...   \n",
       "1     I'm sorry to hear about your daughter's strugg...   \n",
       "2     I'm sorry to hear that you're experiencing the...   \n",
       "3     I'm not a doctor, but I can offer some general...   \n",
       "4     It's good that you're paying attention to chan...   \n",
       "...                                                 ...   \n",
       "4683  I'm not a doctor, but the symptoms you're desc...   \n",
       "4684  It's good to hear that you're feeling fine and...   \n",
       "4685  Experiencing irritation on the head of the pen...   \n",
       "4686  Yes, there are formulations of naproxen that a...   \n",
       "4687  For people with osteoporosis, engaging in non-...   \n",
       "\n",
       "                                      llama_response_ft  \n",
       "0     If you are using the NuvaRing and have missed ...  \n",
       "1     I'm sorry to hear about your daughter's strugg...  \n",
       "2     I'm not a doctor, but I can provide some gener...  \n",
       "3     I'm not a doctor, but I can provide some infor...  \n",
       "4     It's important to monitor any new or unusual s...  \n",
       "...                                                 ...  \n",
       "4683  I'm not a doctor, but the symptoms you're desc...  \n",
       "4684  It sounds like you're experiencing a change in...  \n",
       "4685  It's not uncommon to experience some irritatio...  \n",
       "4686  Yes, there are formulations of naproxen that a...  \n",
       "4687  For individuals with osteoporosis, it's import...  \n",
       "\n",
       "[4688 rows x 5 columns]"
      ]
     },
     "execution_count": 7,
     "metadata": {},
     "output_type": "execute_result"
    }
   ],
   "source": [
    "test_dataset['llama_responses_distill_ft'] = llama_responses_distill_ft\n",
    "test_dataset"
   ]
  },
  {
   "cell_type": "markdown",
   "metadata": {},
   "source": [
    "### Calculating the BLEU Results for Phase 2"
   ]
  },
  {
   "cell_type": "markdown",
   "metadata": {},
   "source": [
    "LLaMA Response Base"
   ]
  },
  {
   "cell_type": "code",
   "execution_count": 8,
   "metadata": {},
   "outputs": [
    {
     "data": {
      "text/plain": [
       "{'bleu': 0.008451293070833801,\n",
       " 'precisions': [0.09561372031751067,\n",
       "  0.015226588445850224,\n",
       "  0.0034674400620675993,\n",
       "  0.0010105571055748644],\n",
       " 'brevity_penalty': 1.0,\n",
       " 'length_ratio': 4.6308406208176915,\n",
       " 'translation_length': 2377117,\n",
       " 'reference_length': 513323}"
      ]
     },
     "execution_count": 8,
     "metadata": {},
     "output_type": "execute_result"
    }
   ],
   "source": [
    "bleu_eval = evaluate.load(\"bleu\")\n",
    "bleu_results = bleu_eval.compute(predictions=test_dataset['llama_response_base'].to_list(), references=test_dataset['answer'].to_list())\n",
    "bleu_results"
   ]
  },
  {
   "cell_type": "markdown",
   "metadata": {},
   "source": [
    "GPT Response Base"
   ]
  },
  {
   "cell_type": "code",
   "execution_count": 9,
   "metadata": {},
   "outputs": [
    {
     "data": {
      "text/plain": [
       "{'bleu': 0.012913859036620538,\n",
       " 'precisions': [0.1465048240902543,\n",
       "  0.022814594699299896,\n",
       "  0.00533860905705456,\n",
       "  0.00155858812772994],\n",
       " 'brevity_penalty': 1.0,\n",
       " 'length_ratio': 2.7546963607708985,\n",
       " 'translation_length': 1414049,\n",
       " 'reference_length': 513323}"
      ]
     },
     "execution_count": 9,
     "metadata": {},
     "output_type": "execute_result"
    }
   ],
   "source": [
    "bleu_eval = evaluate.load(\"bleu\")\n",
    "bleu_results = bleu_eval.compute(predictions=test_dataset['gpt_response_base'].to_list(), references=test_dataset['answer'].to_list())\n",
    "bleu_results"
   ]
  },
  {
   "cell_type": "markdown",
   "metadata": {},
   "source": [
    "LLaMA Response Fine-Tune"
   ]
  },
  {
   "cell_type": "code",
   "execution_count": null,
   "metadata": {},
   "outputs": [
    {
     "data": {
      "text/plain": [
       "{'bleu': 0.012102035371270584,\n",
       " 'precisions': [0.1481477912408694,\n",
       "  0.022289582326031166,\n",
       "  0.004935573301325259,\n",
       "  0.0013161305014180052],\n",
       " 'brevity_penalty': 1.0,\n",
       " 'length_ratio': 2.628049006181293,\n",
       " 'translation_length': 1349038,\n",
       " 'reference_length': 513323}"
      ]
     },
     "execution_count": 10,
     "metadata": {},
     "output_type": "execute_result"
    }
   ],
   "source": [
    "bleu_eval = evaluate.load(\"bleu\")\n",
    "bleu_results = bleu_eval.compute(predictions=test_dataset['llama_responses_distill_ft'].to_list(), references=test_dataset['answer'].to_list())\n",
    "bleu_results"
   ]
  },
  {
   "cell_type": "markdown",
   "metadata": {},
   "source": [
    "### Calculating the ROUGE Results for Phase 2"
   ]
  },
  {
   "cell_type": "markdown",
   "metadata": {},
   "source": [
    "LLaMA Response Base"
   ]
  },
  {
   "cell_type": "code",
   "execution_count": 14,
   "metadata": {},
   "outputs": [
    {
     "data": {
      "text/plain": [
       "{'rouge1': np.float64(0.17119481097208555),\n",
       " 'rouge2': np.float64(0.03278281106824186),\n",
       " 'rougeL': np.float64(0.0919086145945601),\n",
       " 'rougeLsum': np.float64(0.1249113699917701)}"
      ]
     },
     "execution_count": 14,
     "metadata": {},
     "output_type": "execute_result"
    }
   ],
   "source": [
    "rouge_eval = evaluate.load(\"rouge\")\n",
    "rouge_results = rouge_eval.compute(predictions=test_dataset['llama_response_base'].to_list(), references=test_dataset['answer'].to_list())\n",
    "rouge_results"
   ]
  },
  {
   "cell_type": "markdown",
   "metadata": {},
   "source": [
    "GPT Response Base"
   ]
  },
  {
   "cell_type": "code",
   "execution_count": 15,
   "metadata": {},
   "outputs": [
    {
     "data": {
      "text/plain": [
       "{'rouge1': np.float64(0.22386597577345274),\n",
       " 'rouge2': np.float64(0.04213889578666414),\n",
       " 'rougeL': np.float64(0.11631453151944982),\n",
       " 'rougeLsum': np.float64(0.15270435062331955)}"
      ]
     },
     "execution_count": 15,
     "metadata": {},
     "output_type": "execute_result"
    }
   ],
   "source": [
    "rouge_eval = evaluate.load(\"rouge\")\n",
    "rouge_results = rouge_eval.compute(predictions=test_dataset['gpt_response_base'].to_list(), references=test_dataset['answer'].to_list())\n",
    "rouge_results"
   ]
  },
  {
   "cell_type": "markdown",
   "metadata": {},
   "source": [
    "LLaMA Response Fine-Tuned"
   ]
  },
  {
   "cell_type": "code",
   "execution_count": null,
   "metadata": {},
   "outputs": [
    {
     "data": {
      "text/plain": [
       "{'rouge1': np.float64(0.2221762223815988),\n",
       " 'rouge2': np.float64(0.04036304115754091),\n",
       " 'rougeL': np.float64(0.11650390932105509),\n",
       " 'rougeLsum': np.float64(0.15147386648116043)}"
      ]
     },
     "execution_count": 16,
     "metadata": {},
     "output_type": "execute_result"
    }
   ],
   "source": [
    "rouge_eval = evaluate.load(\"rouge\")\n",
    "rouge_results = rouge_eval.compute(predictions=test_dataset['llama_responses_distill_ft'].to_list(), references=test_dataset['answer'].to_list())\n",
    "rouge_results"
   ]
  }
 ],
 "metadata": {
  "kernelspec": {
   "display_name": "mental-health-agents",
   "language": "python",
   "name": "python3"
  },
  "language_info": {
   "codemirror_mode": {
    "name": "ipython",
    "version": 3
   },
   "file_extension": ".py",
   "mimetype": "text/x-python",
   "name": "python",
   "nbconvert_exporter": "python",
   "pygments_lexer": "ipython3",
   "version": "3.12.9"
  }
 },
 "nbformat": 4,
 "nbformat_minor": 2
}
